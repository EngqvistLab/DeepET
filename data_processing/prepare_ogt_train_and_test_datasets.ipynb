{
 "cells": [
  {
   "cell_type": "markdown",
   "metadata": {},
   "source": [
    "#### Prepare following datasets from OGT\n",
    "1. test dataset, 10,000 sequences.\n",
    "2. training datasets with different number of sequences"
   ]
  },
  {
   "cell_type": "code",
   "execution_count": 1,
   "metadata": {},
   "outputs": [],
   "source": [
    "import pandas as pd\n",
    "from Bio import SeqIO\n",
    "import numpy as np\n",
    "import random\n",
    "from matplotlib import pyplot as plt\n",
    "import seaborn as sns"
   ]
  },
  {
   "cell_type": "markdown",
   "metadata": {},
   "source": [
    "### Build train-test-val datasets "
   ]
  },
  {
   "cell_type": "code",
   "execution_count": 24,
   "metadata": {},
   "outputs": [],
   "source": [
    "def build_train_test_original_distribution():\n",
    "    # split the dataset 95-5\n",
    "    fhand_train = open('../data/ogt_for_training_original_distribution.fasta','w')\n",
    "    fhand_test = open('../data/ogt_for_test_original_distribution.fasta','w')\n",
    "    \n",
    "    all_recs = [rec for rec in SeqIO.parse('../data/cleaned_ogts.fasta','fasta')]\n",
    "    print('total number',len(all_recs))\n",
    "    print(all_recs[:2])\n",
    "    np.random.shuffle(all_recs)\n",
    "    print(all_recs[:2])\n",
    "    \n",
    "    splt = int(len(all_recs)*0.95)\n",
    "    print(splt)\n",
    "    SeqIO.write(all_recs[:splt],fhand_train,'fasta')\n",
    "    SeqIO.write(all_recs[splt:],fhand_test,'fasta')\n",
    "    \n",
    "    fhand_train.close()\n",
    "    fhand_test.close()"
   ]
  },
  {
   "cell_type": "code",
   "execution_count": 1,
   "metadata": {},
   "outputs": [],
   "source": [
    "def build_train_val_original_distribution():\n",
    "    # split the dataset 95-5\n",
    "    fhand_train = open('../data/ogt_for_training_original_distribution_2nd_split.fasta','w')\n",
    "    fhand_test = open('../data/ogt_for_val_original_distribution.fasta','w')\n",
    "    \n",
    "    all_recs = [rec for rec in SeqIO.parse('../data/ogt_for_training_original_distribution.fasta','fasta')]\n",
    "    print('total number',len(all_recs))\n",
    "    print(all_recs[:2])\n",
    "    np.random.shuffle(all_recs)\n",
    "    print(all_recs[:2])\n",
    "    \n",
    "    splt = int(len(all_recs)*0.95)\n",
    "    print(splt)\n",
    "    SeqIO.write(all_recs[:splt],fhand_train,'fasta')\n",
    "    SeqIO.write(all_recs[splt:],fhand_test,'fasta')\n",
    "    \n",
    "    fhand_train.close()\n",
    "    fhand_test.close()"
   ]
  },
  {
   "cell_type": "code",
   "execution_count": 4,
   "metadata": {},
   "outputs": [],
   "source": [
    "def plot_dist(infile):\n",
    "    ogts = [float(line[1:].split()[-1]) for line in open(infile) if line.startswith('>')]\n",
    "    plt.hist(ogts,50)\n",
    "    plt.title('var={0:.2f}'.format(np.var(ogts)))\n",
    "    plt.show()"
   ]
  },
  {
   "cell_type": "code",
   "execution_count": null,
   "metadata": {},
   "outputs": [],
   "source": []
  },
  {
   "cell_type": "code",
   "execution_count": 25,
   "metadata": {},
   "outputs": [
    {
     "name": "stdout",
     "output_type": "stream",
     "text": [
      "total number 3015505\n",
      "[SeqRecord(seq=Seq('MSGSVILGAARTPIGRLLGSLKDFSGAQLGGFAIKAALEQAGVSPDAVQYTIMG...RVP', SingleLetterAlphabet()), id='A0A229RQY8', name='A0A229RQY8', description='A0A229RQY8 28.0', dbxrefs=[]), SeqRecord(seq=Seq('MAKEIKFSLLYRDMWQSSGKYVPTVDQLLEVAPAIIDMGCFARVETNGGGFEQI...KMR', SingleLetterAlphabet()), id='A0A1G4G7X9', name='A0A1G4G7X9', description='A0A1G4G7X9 37.0', dbxrefs=[])]\n",
      "[SeqRecord(seq=Seq('MNERPSTNVIRPSGCPGLLRVVQALDGGICRIKLDGGSIRADQADAVAAAAEGF...LDA', SingleLetterAlphabet()), id='J2YB21', name='J2YB21', description='J2YB21 28.0', dbxrefs=[]), SeqRecord(seq=Seq('MTTALDQLKQYTTVVADTGDFQQLAQYQPQDATTNPSLILKAVQKDAYKPILEK...SLR', SingleLetterAlphabet()), id='A0A103Z2S1', name='A0A103Z2S1', description='A0A103Z2S1 30.0', dbxrefs=[])]\n",
      "2864729\n"
     ]
    }
   ],
   "source": [
    "build_train_test_original_distribution()"
   ]
  },
  {
   "cell_type": "code",
   "execution_count": 3,
   "metadata": {},
   "outputs": [
    {
     "name": "stdout",
     "output_type": "stream",
     "text": [
      "total number 2864729\n",
      "[SeqRecord(seq=Seq('MNERPSTNVIRPSGCPGLLRVVQALDGGICRIKLDGGSIRADQADAVAAAAEGF...LDA', SingleLetterAlphabet()), id='J2YB21', name='J2YB21', description='J2YB21 28.0', dbxrefs=[]), SeqRecord(seq=Seq('MTTALDQLKQYTTVVADTGDFQQLAQYQPQDATTNPSLILKAVQKDAYKPILEK...SLR', SingleLetterAlphabet()), id='A0A103Z2S1', name='A0A103Z2S1', description='A0A103Z2S1 30.0', dbxrefs=[])]\n",
      "[SeqRecord(seq=Seq('MGDVTLTIDGRQVTVQAGTSVLEAATQAGVKIPTLCYLEGLNEIGSCRLCVVEI...PKR', SingleLetterAlphabet()), id='A0A1V5J521', name='A0A1V5J521', description='A0A1V5J521 35.0', dbxrefs=[]), SeqRecord(seq=Seq('MPTSLSARLSAELAGLRESGLLIHPRVLDAANRARTRVDGREVVNLASNNYLGF...TIS', SingleLetterAlphabet()), id='H8GSN2', name='H8GSN2', description='H8GSN2 28.0', dbxrefs=[])]\n",
      "2721492\n"
     ]
    }
   ],
   "source": [
    "build_train_val_original_distribution()"
   ]
  },
  {
   "cell_type": "code",
   "execution_count": 5,
   "metadata": {},
   "outputs": [
    {
     "data": {
      "image/png": "[encoded data removed]",
      "text/plain": [
       "<Figure size 432x288 with 1 Axes>"
      ]
     },
     "metadata": {
      "needs_background": "light"
     },
     "output_type": "display_data"
    }
   ],
   "source": [
    "plot_dist('../data/ogt_for_training_original_distribution_2nd_split.fasta')"
   ]
  },
  {
   "cell_type": "code",
   "execution_count": 6,
   "metadata": {},
   "outputs": [
    {
     "data": {
      "image/png": "[encoded data removed]",
      "text/plain": [
       "<Figure size 432x288 with 1 Axes>"
      ]
     },
     "metadata": {
      "needs_background": "light"
     },
     "output_type": "display_data"
    }
   ],
   "source": [
    "plot_dist('../data/ogt_for_val_original_distribution.fasta')"
   ]
  },
  {
   "cell_type": "code",
   "execution_count": 7,
   "metadata": {},
   "outputs": [
    {
     "data": {
      "image/png": "[encoded data removed]",
      "text/plain": [
       "<Figure size 432x288 with 1 Axes>"
      ]
     },
     "metadata": {
      "needs_background": "light"
     },
     "output_type": "display_data"
    }
   ],
   "source": [
    "plot_dist('../data/ogt_for_test_original_distribution.fasta')"
   ]
  },
  {
   "cell_type": "code",
   "execution_count": 26,
   "metadata": {},
   "outputs": [
    {
     "name": "stdout",
     "output_type": "stream",
     "text": [
      ">J2YB21 28.0\r\n",
      "MNERPSTNVIRPSGCPGLLRVVQALDGGICRIKLDGGSIRADQADAVAAAAEGFAGGVIE\r\n",
      "ATNRGNLQIRGIGPRHGALIEQLLAAGLGPRTPAGDDVRNLMLSPSAGIDRQMLVDTRPL\r\n",
      "AARILVTLQTHERFHELSAKFAVQLDGGEAMAMLEHHHDLWLSALVCDGEPWLAFGLAGS\r\n",
      "PLDEPAGRVPLAQGHALVVAVLEQFLERARPDQTRMRHLLSEVPLDDFIAQLARRVPLQS\r\n",
      "CMGWQRDASIDGLHLGAHPQRDDRVYVGAAAPLGRLDAVMLRGAARLAREQGDASLRFTP\r\n",
      "WQSLLLPNLRREDADQVLARLEELGLLCSVDQPLAQLIACTGSSGCGNALANTKADARQL\r\n",
      "AELLQRQGQTLKIHLSGCPRSCAAAHIAPATLLAVAPGRYDLYFRDATLPGFGALQAHNL\r\n",
      "TIEALGHWLDARPRSPLDA\r\n",
      ">A0A103Z2S1 30.0\r\n"
     ]
    }
   ],
   "source": [
    "!head ../pre_train_datasets/ogt_for_training_original_distribution.fasta"
   ]
  },
  {
   "cell_type": "code",
   "execution_count": 27,
   "metadata": {},
   "outputs": [
    {
     "name": "stdout",
     "output_type": "stream",
     "text": [
      ">A0A1U7M6R4 31.0\r\n",
      "MFNKAEEILEVCKLENKSISDIIIEKEIEHLGLTRQQLIEKMRESLEVMKHSATEALEKE\r\n",
      "VKSVSGLTGGNSKKIEDYKKKGKTLSGDLINSAMAKAFSTSEVNASMGKIVAAPTAGASG\r\n",
      "ILPSAFLSAKEKLNLSDDDLIKGLFTAGGVGEIIAKNATISGAEGGCQAECGSAAAMAAA\r\n",
      "AIVEMAGGSVEDSFNAASFALTNIMGLVCDPIAGLVEYPCALRNASGVVNALISADMALA\r\n",
      "KVESLVPFDEVVEAMYKVGKALPESLRETALGGLAATPTGKRCSKKILG\r\n",
      ">A0A2E9ED41 27.0\r\n",
      "MKVFNRIALVARVVSEQIADSLRLVERFLLEHGKEVYIESNSATMFGESASIPKTINEIG\r\n",
      "DCCDLVIAVGGDGNILSCAREMAPFGVPILGVNRGKLGFLADISPEDIETSVGQVLMGDY\r\n",
      "SVQEHFLLEGKVEGSQNASSALNEVLLHTTVLPKMIEMEIFHNDRYVFTQKSDGLIVSSP\r\n"
     ]
    }
   ],
   "source": [
    "!head ../pre_train_datasets/ogt_for_test_original_distribution.fasta"
   ]
  },
  {
   "cell_type": "markdown",
   "metadata": {},
   "source": [
    "#### Random select 10k sequences from pre_train_datasets/ogt_for_training_original_distribution.fasta for hyperopt"
   ]
  },
  {
   "cell_type": "code",
   "execution_count": 10,
   "metadata": {},
   "outputs": [],
   "source": [
    "def build_hyperopt_val_oridist():\n",
    "    fhand = open('../data/ogt_for_hyperopt_original_distribution.fasta','w')\n",
    "    trainfile = '../data/ogt_for_training_original_distribution.fasta'\n",
    "    all_recs = [rec for rec in SeqIO.parse(trainfile,'fasta')]\n",
    "    \n",
    "    sel_recs = np.random.choice(all_recs,10000,replace=False)\n",
    "    SeqIO.write(sel_recs,fhand,'fasta')\n",
    "    fhand.close()\n",
    "    \n",
    "    return sel_recs"
   ]
  },
  {
   "cell_type": "code",
   "execution_count": 7,
   "metadata": {},
   "outputs": [],
   "source": [
    "def build_hyperopt_val_uniformdist():\n",
    "    # to make a datasets with best representations of all temperature ranges, an uniform sampling were applied.\n",
    "    fhand = open('../data/ogt_for_hyperopt_uniform_distribution.fasta','w')\n",
    "    trainfile = '../data/ogt_for_training_original_distribution.fasta'\n",
    "    all_recs = [rec for rec in SeqIO.parse(trainfile,'fasta')]\n",
    "    \n",
    "    # bin recs based on ogt values. with a bin size. 5 degrees\n",
    "    bin_recs = {}\n",
    "    for rec in all_recs:\n",
    "        ogt = float(rec.description.split()[-1])\n",
    "        g = int(ogt)//5\n",
    "        lst = bin_recs.get(g,[])\n",
    "        lst.append(rec)\n",
    "        bin_recs[g] = lst\n",
    "        \n",
    "    num_of_each_bin = int(10000/len(bin_recs))\n",
    "    sel_recs = list()\n",
    "    \n",
    "    for lst in bin_recs.values():\n",
    "        if len(lst)>num_of_each_bin:\n",
    "            sel_recs.extend(list(np.random.choice(lst,num_of_each_bin,replace=False)))\n",
    "        else: sel_recs.extend(lst)\n",
    "    SeqIO.write(sel_recs,fhand,'fasta')\n",
    "    fhand.close()\n",
    "    \n",
    "    return sel_recs"
   ]
  },
  {
   "cell_type": "code",
   "execution_count": 2,
   "metadata": {},
   "outputs": [
    {
     "data": {
      "text/plain": [
       "6"
      ]
     },
     "execution_count": 2,
     "metadata": {},
     "output_type": "execute_result"
    }
   ],
   "source": [
    "32//5"
   ]
  },
  {
   "cell_type": "code",
   "execution_count": 18,
   "metadata": {},
   "outputs": [],
   "source": [
    "def plot_recs(sel_recs):\n",
    "    # plot distribution\n",
    "    ogts = [float(rec.description.split()[-1]) for rec in sel_recs]\n",
    "    plt.figure(figsize=(4,3))\n",
    "    #plt.subplot(1,2,1)\n",
    "    plt.hist(ogts,20)\n",
    "    plt.ylabel('Count')\n",
    "    plt.xlabel('OGT ($^\\circ$C)')\n",
    "    '''\n",
    "    plt.subplot(1,2,2)\n",
    "    plt.hist(ogts)\n",
    "    plt.yscale('log')\n",
    "    plt.ylabel('Count')\n",
    "    plt.xlabel('OGT ($^\\circ$C)')\n",
    "    '''\n",
    "    plt.tight_layout()\n",
    "    plt.show()"
   ]
  },
  {
   "cell_type": "code",
   "execution_count": 31,
   "metadata": {},
   "outputs": [],
   "source": [
    "def plot_recs2(sel_recs):\n",
    "    # plot distribution\n",
    "    ogts = [float(rec.description.split()[-1]) for rec in sel_recs]\n",
    "    bins = {}\n",
    "    for ogt in ogts:\n",
    "        g = int(ogt)//5\n",
    "        bins[g] = bins.get(g,0)+1\n",
    "    print(bins)\n",
    "    x = list(bins.keys())\n",
    "    x.sort()\n",
    "    print(x)\n",
    "    x = np.array(x)\n",
    "    \n",
    "    \n",
    "    c = [bins[item] for item in x]\n",
    "    x = x*5\n",
    "    plt.figure(figsize=(4,3))\n",
    "    #plt.subplot(1,2,1)\n",
    "    plt.bar(x,c,width=4,align='center')\n",
    "    plt.ylabel('Count')\n",
    "    plt.xlabel('OGT ($^\\circ$C)')\n",
    "    '''\n",
    "    plt.subplot(1,2,2)\n",
    "    plt.bar(x,c,width=4)\n",
    "    plt.yscale('log')\n",
    "    plt.ylabel('Count')\n",
    "    plt.xlabel('OGT ($^\\circ$C)')\n",
    "    '''\n",
    "    plt.tight_layout()\n",
    "    plt.show()"
   ]
  },
  {
   "cell_type": "code",
   "execution_count": 11,
   "metadata": {},
   "outputs": [],
   "source": [
    "sel_recs = build_hyperopt_val_oridist()"
   ]
  },
  {
   "cell_type": "code",
   "execution_count": 16,
   "metadata": {},
   "outputs": [],
   "source": [
    "sel_recs = [rec for rec in SeqIO.parse('../data/ogt_for_hyperopt_original_distribution.fasta','fasta')]"
   ]
  },
  {
   "cell_type": "code",
   "execution_count": 19,
   "metadata": {},
   "outputs": [
    {
     "data": {
      "image/png": "[encoded data removed]",
      "text/plain": [
       "<Figure size 288x216 with 1 Axes>"
      ]
     },
     "metadata": {
      "needs_background": "light"
     },
     "output_type": "display_data"
    }
   ],
   "source": [
    "plot_recs(sel_recs)"
   ]
  },
  {
   "cell_type": "code",
   "execution_count": 8,
   "metadata": {},
   "outputs": [],
   "source": [
    "sel_recs_uniform = build_hyperopt_val_uniformdist()"
   ]
  },
  {
   "cell_type": "code",
   "execution_count": 3,
   "metadata": {},
   "outputs": [],
   "source": [
    "sel_recs_uniform = [rec for rec in SeqIO.parse('../data/ogt_for_hyperopt_uniform_distribution.fasta','fasta')]"
   ]
  },
  {
   "cell_type": "code",
   "execution_count": 32,
   "metadata": {},
   "outputs": [
    {
     "name": "stdout",
     "output_type": "stream",
     "text": [
      "{5: 476, 6: 476, 8: 476, 7: 476, 3: 476, 4: 476, 2: 476, 12: 476, 9: 476, 11: 476, 10: 476, 14: 476, 13: 476, 1: 476, 0: 476, 17: 476, 15: 476, 16: 476, 18: 476, 20: 342, 19: 476}\n",
      "[0, 1, 2, 3, 4, 5, 6, 7, 8, 9, 10, 11, 12, 13, 14, 15, 16, 17, 18, 19, 20]\n"
     ]
    },
    {
     "data": {
      "image/png": "[encoded data removed]",
      "text/plain": [
       "<Figure size 288x216 with 1 Axes>"
      ]
     },
     "metadata": {
      "needs_background": "light"
     },
     "output_type": "display_data"
    }
   ],
   "source": [
    "plot_recs2(sel_recs_uniform)"
   ]
  },
  {
   "cell_type": "markdown",
   "metadata": {},
   "source": [
    "### Rename those files:\n",
    "ogt_for_training_original_distribution_2nd_split.fata --> cleaned_ogts_train.fasta  \n",
    "ogt_for_val_original_distribution.fasta --> cleaned_ogts_val.fasta  \n",
    "ogt_for_test_original_distribution.fasta --> cleaned_ogts_test.fasta\t   "
   ]
  }
 ],
 "metadata": {
  "kernelspec": {
   "display_name": "Python 3",
   "language": "python",
   "name": "python3"
  },
  "language_info": {
   "codemirror_mode": {
    "name": "ipython",
    "version": 3
   },
   "file_extension": ".py",
   "mimetype": "text/x-python",
   "name": "python",
   "nbconvert_exporter": "python",
   "pygments_lexer": "ipython3",
   "version": "3.6.7"
  }
 },
 "nbformat": 4,
 "nbformat_minor": 2
}
