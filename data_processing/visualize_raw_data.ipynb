{
 "cells": [
  {
   "cell_type": "code",
   "execution_count": 1,
   "metadata": {},
   "outputs": [],
   "source": [
    "from matplotlib import pyplot as plt\n",
    "import pandas as pd\n",
    "import numpy as np\n",
    "import seaborn as sns"
   ]
  },
  {
   "cell_type": "markdown",
   "metadata": {},
   "source": [
    "!wget https://zenodo.org/record/3578468/files/annotated_brenda.tsv"
   ]
  },
  {
   "cell_type": "code",
   "execution_count": 27,
   "metadata": {},
   "outputs": [],
   "source": [
    "def load_domain_ogt():\n",
    "    df = pd.read_csv('annotated_brenda.tsv',sep='\\t',index_col=0)\n",
    "    data = dict()\n",
    "    for ind in df.index:\n",
    "        org = df.loc[ind,'organism']\n",
    "        ogt = df.loc[ind,'ogt']\n",
    "        dom = df.loc[ind,'domain']\n",
    "        \n",
    "        data[org] = [dom,ogt]\n",
    "    \n",
    "    dforg = pd.DataFrame()\n",
    "    orgs = list(data.keys())\n",
    "    dforg['domain'] = [data[org][0] for org in orgs]\n",
    "    dforg['ogt'] = [data[org][1] for org in orgs]\n",
    "    return df,dforg"
   ]
  },
  {
   "cell_type": "code",
   "execution_count": 28,
   "metadata": {},
   "outputs": [],
   "source": [
    "df,dforg = load_domain_ogt()"
   ]
  },
  {
   "cell_type": "code",
   "execution_count": 29,
   "metadata": {},
   "outputs": [
    {
     "data": {
      "text/html": [
       "<div>\n",
       "<style scoped>\n",
       "    .dataframe tbody tr th:only-of-type {\n",
       "        vertical-align: middle;\n",
       "    }\n",
       "\n",
       "    .dataframe tbody tr th {\n",
       "        vertical-align: top;\n",
       "    }\n",
       "\n",
       "    .dataframe thead th {\n",
       "        text-align: right;\n",
       "    }\n",
       "</style>\n",
       "<table border=\"1\" class=\"dataframe\">\n",
       "  <thead>\n",
       "    <tr style=\"text-align: right;\">\n",
       "      <th></th>\n",
       "      <th>ec</th>\n",
       "      <th>uniprot_id</th>\n",
       "      <th>domain</th>\n",
       "      <th>organism</th>\n",
       "      <th>ogt</th>\n",
       "      <th>ogt_note</th>\n",
       "      <th>topt</th>\n",
       "      <th>topt_note</th>\n",
       "    </tr>\n",
       "  </thead>\n",
       "  <tbody>\n",
       "    <tr>\n",
       "      <th>0</th>\n",
       "      <td>1.1.1.1</td>\n",
       "      <td>Q8TZM9</td>\n",
       "      <td>Archaea</td>\n",
       "      <td>pyrococcus_furiosus</td>\n",
       "      <td>96.0</td>\n",
       "      <td>experimental</td>\n",
       "      <td>85.751875</td>\n",
       "      <td>predicted</td>\n",
       "    </tr>\n",
       "    <tr>\n",
       "      <th>1</th>\n",
       "      <td>1.1.1.1</td>\n",
       "      <td>H6Q9G7</td>\n",
       "      <td>Archaea</td>\n",
       "      <td>pyrobaculum_oguniense</td>\n",
       "      <td>90.0</td>\n",
       "      <td>experimental</td>\n",
       "      <td>76.366500</td>\n",
       "      <td>predicted</td>\n",
       "    </tr>\n",
       "    <tr>\n",
       "      <th>2</th>\n",
       "      <td>1.1.1.1</td>\n",
       "      <td>H6QDS7</td>\n",
       "      <td>Archaea</td>\n",
       "      <td>pyrobaculum_oguniense</td>\n",
       "      <td>90.0</td>\n",
       "      <td>experimental</td>\n",
       "      <td>83.718500</td>\n",
       "      <td>predicted</td>\n",
       "    </tr>\n",
       "    <tr>\n",
       "      <th>3</th>\n",
       "      <td>1.1.1.1</td>\n",
       "      <td>H6Q7F2</td>\n",
       "      <td>Archaea</td>\n",
       "      <td>pyrobaculum_oguniense</td>\n",
       "      <td>90.0</td>\n",
       "      <td>experimental</td>\n",
       "      <td>80.064000</td>\n",
       "      <td>predicted</td>\n",
       "    </tr>\n",
       "    <tr>\n",
       "      <th>4</th>\n",
       "      <td>1.1.1.1</td>\n",
       "      <td>H6QB36</td>\n",
       "      <td>Archaea</td>\n",
       "      <td>pyrobaculum_oguniense</td>\n",
       "      <td>90.0</td>\n",
       "      <td>experimental</td>\n",
       "      <td>83.540500</td>\n",
       "      <td>predicted</td>\n",
       "    </tr>\n",
       "  </tbody>\n",
       "</table>\n",
       "</div>"
      ],
      "text/plain": [
       "        ec uniprot_id   domain               organism   ogt      ogt_note  \\\n",
       "0  1.1.1.1     Q8TZM9  Archaea    pyrococcus_furiosus  96.0  experimental   \n",
       "1  1.1.1.1     H6Q9G7  Archaea  pyrobaculum_oguniense  90.0  experimental   \n",
       "2  1.1.1.1     H6QDS7  Archaea  pyrobaculum_oguniense  90.0  experimental   \n",
       "3  1.1.1.1     H6Q7F2  Archaea  pyrobaculum_oguniense  90.0  experimental   \n",
       "4  1.1.1.1     H6QB36  Archaea  pyrobaculum_oguniense  90.0  experimental   \n",
       "\n",
       "        topt  topt_note  \n",
       "0  85.751875  predicted  \n",
       "1  76.366500  predicted  \n",
       "2  83.718500  predicted  \n",
       "3  80.064000  predicted  \n",
       "4  83.540500  predicted  "
      ]
     },
     "execution_count": 29,
     "metadata": {},
     "output_type": "execute_result"
    }
   ],
   "source": [
    "df.head(5)"
   ]
  },
  {
   "cell_type": "code",
   "execution_count": 30,
   "metadata": {},
   "outputs": [
    {
     "data": {
      "text/html": [
       "<div>\n",
       "<style scoped>\n",
       "    .dataframe tbody tr th:only-of-type {\n",
       "        vertical-align: middle;\n",
       "    }\n",
       "\n",
       "    .dataframe tbody tr th {\n",
       "        vertical-align: top;\n",
       "    }\n",
       "\n",
       "    .dataframe thead th {\n",
       "        text-align: right;\n",
       "    }\n",
       "</style>\n",
       "<table border=\"1\" class=\"dataframe\">\n",
       "  <thead>\n",
       "    <tr style=\"text-align: right;\">\n",
       "      <th></th>\n",
       "      <th>domain</th>\n",
       "      <th>ogt</th>\n",
       "    </tr>\n",
       "  </thead>\n",
       "  <tbody>\n",
       "    <tr>\n",
       "      <th>0</th>\n",
       "      <td>Archaea</td>\n",
       "      <td>96.0</td>\n",
       "    </tr>\n",
       "    <tr>\n",
       "      <th>1</th>\n",
       "      <td>Archaea</td>\n",
       "      <td>90.0</td>\n",
       "    </tr>\n",
       "    <tr>\n",
       "      <th>2</th>\n",
       "      <td>Archaea</td>\n",
       "      <td>90.0</td>\n",
       "    </tr>\n",
       "    <tr>\n",
       "      <th>3</th>\n",
       "      <td>Archaea</td>\n",
       "      <td>90.0</td>\n",
       "    </tr>\n",
       "    <tr>\n",
       "      <th>4</th>\n",
       "      <td>Archaea</td>\n",
       "      <td>90.0</td>\n",
       "    </tr>\n",
       "  </tbody>\n",
       "</table>\n",
       "</div>"
      ],
      "text/plain": [
       "    domain   ogt\n",
       "0  Archaea  96.0\n",
       "1  Archaea  90.0\n",
       "2  Archaea  90.0\n",
       "3  Archaea  90.0\n",
       "4  Archaea  90.0"
      ]
     },
     "execution_count": 30,
     "metadata": {},
     "output_type": "execute_result"
    }
   ],
   "source": [
    "dforg.head(5)"
   ]
  },
  {
   "cell_type": "code",
   "execution_count": 46,
   "metadata": {},
   "outputs": [
    {
     "data": {
      "text/plain": [
       "(6507076, 8)"
      ]
     },
     "execution_count": 46,
     "metadata": {},
     "output_type": "execute_result"
    }
   ],
   "source": [
    "df.shape"
   ]
  },
  {
   "cell_type": "code",
   "execution_count": 31,
   "metadata": {},
   "outputs": [
    {
     "data": {
      "text/plain": [
       "(9515, 2)"
      ]
     },
     "execution_count": 31,
     "metadata": {},
     "output_type": "execute_result"
    }
   ],
   "source": [
    "dforg.shape"
   ]
  },
  {
   "cell_type": "code",
   "execution_count": 51,
   "metadata": {},
   "outputs": [
    {
     "name": "stderr",
     "output_type": "stream",
     "text": [
      "/apps/Vera/software/MPI/GCC-CUDA/6.4.0-2.28-9.1.85/OpenMPI/2.1.2/Python/3.6.7/lib/python3.6/site-packages/scipy-1.1.0-py3.6-linux-x86_64.egg/scipy/stats/stats.py:1713: FutureWarning: Using a non-tuple sequence for multidimensional indexing is deprecated; use `arr[tuple(seq)]` instead of `arr[seq]`. In the future this will be interpreted as an array index, `arr[np.array(seq)]`, which will result either in an error or a different result.\n",
      "  return np.add.reduce(sorted[indexer] * weights, axis=axis) / sumval\n"
     ]
    },
    {
     "data": {
      "image/png": "[encoded data removed]",
      "text/plain": [
       "<Figure size 187.2x180 with 1 Axes>"
      ]
     },
     "metadata": {
      "needs_background": "light"
     },
     "output_type": "display_data"
    }
   ],
   "source": [
    "plt.figure(figsize=(2.6,2.5))\n",
    "sns.violinplot(x='domain',y='ogt',data=dforg,scale='width')\n",
    "plt.xlabel(None)\n",
    "plt.ylabel('OGT ($^\\circ$C)')\n",
    "plt.savefig('../results/figures/org_ogt_domain.pdf',bbox_inches='tight')"
   ]
  },
  {
   "cell_type": "code",
   "execution_count": 52,
   "metadata": {},
   "outputs": [
    {
     "name": "stderr",
     "output_type": "stream",
     "text": [
      "/apps/Vera/software/MPI/GCC-CUDA/6.4.0-2.28-9.1.85/OpenMPI/2.1.2/Python/3.6.7/lib/python3.6/site-packages/scipy-1.1.0-py3.6-linux-x86_64.egg/scipy/stats/stats.py:1713: FutureWarning: Using a non-tuple sequence for multidimensional indexing is deprecated; use `arr[tuple(seq)]` instead of `arr[seq]`. In the future this will be interpreted as an array index, `arr[np.array(seq)]`, which will result either in an error or a different result.\n",
      "  return np.add.reduce(sorted[indexer] * weights, axis=axis) / sumval\n"
     ]
    },
    {
     "data": {
      "image/png": "[encoded data removed]",
      "text/plain": [
       "<Figure size 187.2x180 with 1 Axes>"
      ]
     },
     "metadata": {
      "needs_background": "light"
     },
     "output_type": "display_data"
    }
   ],
   "source": [
    "plt.figure(figsize=(2.6,2.5))\n",
    "sns.violinplot(x='domain',y='ogt',data=df,scale='width')\n",
    "plt.xlabel(None)\n",
    "plt.ylabel('OGT ($^\\circ$C)')\n",
    "plt.savefig('../results/figures/enzyme_ogt_domain.pdf',bbox_inches='tight')"
   ]
  },
  {
   "cell_type": "code",
   "execution_count": 53,
   "metadata": {},
   "outputs": [],
   "source": []
  },
  {
   "cell_type": "markdown",
   "metadata": {},
   "source": [
    "### Visualize the source of cleaned enzyme sequences"
   ]
  },
  {
   "cell_type": "code",
   "execution_count": 13,
   "metadata": {},
   "outputs": [],
   "source": [
    "def load_seq_dom():\n",
    "    #df = pd.read_csv('annotated_brenda.tsv',sep='\\t',index_col=0)\n",
    "    seq_org = {}\n",
    "    org_ogt = {}\n",
    "    org_dom = {}\n",
    "    for line in open('annotated_brenda.tsv'): \n",
    "        try:\n",
    "            lst = line.split('\\t')\n",
    "            org_ogt[lst[4]] = float(lst[5])\n",
    "            seq_org[lst[2]] = lst[4]\n",
    "            org_dom[lst[4]] = lst[3]\n",
    "        except: pass\n",
    "    print('unique seqs:',len(seq_org))\n",
    "    print('unique org:',len(org_dom),len(org_ogt))\n",
    "    return seq_org,org_ogt,org_dom"
   ]
  },
  {
   "cell_type": "code",
   "execution_count": 9,
   "metadata": {},
   "outputs": [
    {
     "name": "stdout",
     "output_type": "stream",
     "text": [
      "\tec\tuniprot_id\tdomain\torganism\togt\togt_note\ttopt\ttopt_note\r\n",
      "0\t1.1.1.1\tQ8TZM9\tArchaea\tpyrococcus_furiosus\t96.0\texperimental\t85.751875\tpredicted\r\n",
      "1\t1.1.1.1\tH6Q9G7\tArchaea\tpyrobaculum_oguniense\t90.0\texperimental\t76.3665\tpredicted\r\n",
      "2\t1.1.1.1\tH6QDS7\tArchaea\tpyrobaculum_oguniense\t90.0\texperimental\t83.7185\tpredicted\r\n",
      "3\t1.1.1.1\tH6Q7F2\tArchaea\tpyrobaculum_oguniense\t90.0\texperimental\t80.064\tpredicted\r\n",
      "4\t1.1.1.1\tH6QB36\tArchaea\tpyrobaculum_oguniense\t90.0\texperimental\t83.5405\tpredicted\r\n",
      "5\t1.1.1.1\tH6QC08\tArchaea\tpyrobaculum_oguniense\t90.0\texperimental\t80.3105\tpredicted\r\n",
      "6\t1.1.1.1\tA3MVR8\tArchaea\tpyrobaculum_calidifontis\t90.0\texperimental\t82.007\tpredicted\r\n",
      "7\t1.1.1.1\tA8A8R4\tArchaea\tignicoccus_hospitalis\t90.0\texperimental\t85.1715\tpredicted\r\n",
      "8\t1.1.1.1\tQ9Y9P9\tArchaea\taeropyrum_pernix\t90.0\texperimental\t81.988\tpredicted\r\n"
     ]
    }
   ],
   "source": [
    "!head annotated_brenda.tsv"
   ]
  },
  {
   "cell_type": "code",
   "execution_count": 24,
   "metadata": {},
   "outputs": [],
   "source": [
    "def plot_dom_dist_of_cleaned_seqs(seq_org,org_ogt,org_dom,clean_seq_ids):\n",
    "    df = pd.DataFrame()\n",
    "    \n",
    "    orgs = {seq_org[seq]:0 for seq in clean_seq_ids}\n",
    "    print(len(orgs))\n",
    "    doms = dict()\n",
    "    for org in orgs.keys(): \n",
    "        doms[org_dom[org]] = doms.get(org_dom[org],0) + 1\n",
    "    print(doms)\n",
    "    \n",
    "    dom_seqs = {}\n",
    "    for seq in clean_seq_ids:\n",
    "        dom = org_dom[seq_org[seq]]\n",
    "        dom_seqs[dom] = dom_seqs.get(dom,0) +1\n",
    "    print(dom_seqs)\n",
    "        \n",
    "    \n",
    "    \n",
    "    df['domain'] = [org_dom[seq_org[seq]] for seq in clean_seq_ids]\n",
    "    df['ogt'] = [org_ogt[seq_org[seq]] for seq in clean_seq_ids]\n",
    "    \n",
    "    print(df.shape)\n",
    "    plt.figure(figsize=(3,2.5))\n",
    "    sns.violinplot(y='domain',x='ogt',data=df,scale='width')\n",
    "    plt.ylabel(None)\n",
    "    plt.xlabel('OGT ($^\\circ$C)')\n",
    "    plt.savefig('../results/figures/enzyme_ogt_domain_cleaned.pdf',bbox_inches='tight')"
   ]
  },
  {
   "cell_type": "code",
   "execution_count": null,
   "metadata": {},
   "outputs": [],
   "source": []
  },
  {
   "cell_type": "code",
   "execution_count": 14,
   "metadata": {},
   "outputs": [
    {
     "name": "stdout",
     "output_type": "stream",
     "text": [
      "unique seqs: 6270107\n",
      "unique org: 9515 9515\n"
     ]
    }
   ],
   "source": [
    "seq_org,org_ogt,org_dom = load_seq_dom()\n",
    "clean_seq_ids = [line[1:].split()[0] for line in open('../data/ogt/cleaned_ogts.fasta') if line.startswith('>')]"
   ]
  },
  {
   "cell_type": "code",
   "execution_count": 25,
   "metadata": {},
   "outputs": [
    {
     "name": "stdout",
     "output_type": "stream",
     "text": [
      "8184\n",
      "{'Bacteria': 6378, 'Eukaryota': 1492, 'Archaea': 314}\n",
      "{'Bacteria': 2747222, 'Eukaryota': 184257, 'Archaea': 84026}\n",
      "(3015505, 2)\n"
     ]
    },
    {
     "name": "stderr",
     "output_type": "stream",
     "text": [
      "/apps/Vera/software/MPI/GCC-CUDA/6.4.0-2.28-9.1.85/OpenMPI/2.1.2/Python/3.6.7/lib/python3.6/site-packages/scipy-1.1.0-py3.6-linux-x86_64.egg/scipy/stats/stats.py:1713: FutureWarning: Using a non-tuple sequence for multidimensional indexing is deprecated; use `arr[tuple(seq)]` instead of `arr[seq]`. In the future this will be interpreted as an array index, `arr[np.array(seq)]`, which will result either in an error or a different result.\n",
      "  return np.add.reduce(sorted[indexer] * weights, axis=axis) / sumval\n"
     ]
    },
    {
     "data": {
      "image/png": "[encoded data removed]",
      "text/plain": [
       "<Figure size 216x180 with 1 Axes>"
      ]
     },
     "metadata": {
      "needs_background": "light"
     },
     "output_type": "display_data"
    }
   ],
   "source": [
    "plot_dom_dist_of_cleaned_seqs(seq_org,org_ogt,org_dom,clean_seq_ids)"
   ]
  },
  {
   "cell_type": "code",
   "execution_count": null,
   "metadata": {},
   "outputs": [],
   "source": []
  }
 ],
 "metadata": {
  "kernelspec": {
   "display_name": "Python 3",
   "language": "python",
   "name": "python3"
  },
  "language_info": {
   "codemirror_mode": {
    "name": "ipython",
    "version": 3
   },
   "file_extension": ".py",
   "mimetype": "text/x-python",
   "name": "python",
   "nbconvert_exporter": "python",
   "pygments_lexer": "ipython3",
   "version": "3.6.7"
  }
 },
 "nbformat": 4,
 "nbformat_minor": 2
}
