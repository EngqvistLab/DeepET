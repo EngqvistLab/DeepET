{
 "cells": [
  {
   "cell_type": "code",
   "execution_count": 36,
   "metadata": {},
   "outputs": [],
   "source": [
    "from Bio import SeqIO\n",
    "import os\n",
    "import matplotlib.pyplot as plt\n",
    "import numpy as np\n",
    "import random\n",
    "import re"
   ]
  },
  {
   "cell_type": "markdown",
   "metadata": {},
   "source": [
    "#### 1. Clean sequence id and remove any sequences   \n",
    "(1) containing non-standard amino acids  \n",
    "(2) longer than 2000.   \n",
    "(3) shorter than 100\n",
    "\n",
    "\n",
    "In the end, produce a fasta file with following format:  \n",
    "\\>seq_id org_strain domain ogt  \n",
    "SEQUENCE\n",
    "\n",
    "For example:  \n",
    "\\>WP_010045158.1 gemmata_obscuriglobus bacteria 30  \n",
    "  \n",
    "Make sure each id is unique in the dataset"
   ]
  },
  {
   "cell_type": "code",
   "execution_count": 10,
   "metadata": {},
   "outputs": [],
   "source": [
    "def load_seq_info(infile):\n",
    "    # return {'Q8TZM9':[pyrococcus_furiosus,archaea,96]}\n",
    "    seq_info = dict()\n",
    "    for line in open(infile):\n",
    "        if line.startswith('ec'): continue\n",
    "        cont = line.split()\n",
    "        seq_info[cont[1]] = '{0} {1} {2}'.format(cont[3],cont[2].lower(),cont[4]) \n",
    "    print('Number of sequences with info:',len(seq_info))\n",
    "    return seq_info"
   ]
  },
  {
   "cell_type": "code",
   "execution_count": 5,
   "metadata": {},
   "outputs": [],
   "source": [
    "def is_valid_seq(seq, max_len=2000,min_len=100):\n",
    "    \"\"\"\n",
    "    True if seq is valid, False otherwise.\n",
    "    \"\"\"\n",
    "    l = len(seq)\n",
    "    valid_aas = \"ACDEFGHIKLMNPQRSTVWY\"\n",
    "    if (l <= max_len) and set(seq) <= set(valid_aas) and l>=min_len: return True\n",
    "    else: return False"
   ]
  },
  {
   "cell_type": "code",
   "execution_count": 23,
   "metadata": {},
   "outputs": [],
   "source": [
    "def clean_sequences(seqfile):\n",
    "    cleaned_seqs = dict()\n",
    "    k = 0\n",
    "    for rec in SeqIO.parse(seqfile,'fasta'):\n",
    "        k += 1\n",
    "        if not is_valid_seq(str(rec.seq)): continue\n",
    "        if len(rec.id) == 0: continue\n",
    "        cleaned_seqs[rec.id] = rec\n",
    "    print('Number of sequences after clean',len(cleaned_seqs))\n",
    "    print('Number of removed sequences:',k-len(cleaned_seqs))\n",
    "    return cleaned_seqs"
   ]
  },
  {
   "cell_type": "code",
   "execution_count": 24,
   "metadata": {},
   "outputs": [],
   "source": [
    "def save_cleaned_seqs(seq_info,cleaned_seqs,outfile):\n",
    "    fhand = open(outfile,'w')\n",
    "    for seqid, rec in cleaned_seqs.items():\n",
    "        try:\n",
    "            rec.description = seq_info[seqid]\n",
    "            SeqIO.write([rec],fhand,'fasta')\n",
    "        except: pass\n",
    "    fhand.close()"
   ]
  },
  {
   "cell_type": "code",
   "execution_count": 12,
   "metadata": {},
   "outputs": [
    {
     "name": "stdout",
     "output_type": "stream",
     "text": [
      "Number of sequences with info: 6270107\n"
     ]
    }
   ],
   "source": [
    "seq_info = load_seq_info('../data/enzyme_ogt_topt.tsv')"
   ]
  },
  {
   "cell_type": "code",
   "execution_count": 25,
   "metadata": {},
   "outputs": [
    {
     "name": "stdout",
     "output_type": "stream",
     "text": [
      "Number of sequences after clean 11299024\n",
      "Number of removed sequences: 425578\n"
     ]
    }
   ],
   "source": [
    "cleaned_seqs = clean_sequences('../data/brenda_sequences_20180109.fasta')"
   ]
  },
  {
   "cell_type": "code",
   "execution_count": 26,
   "metadata": {},
   "outputs": [],
   "source": [
    "save_cleaned_seqs(seq_info,cleaned_seqs,'../data/cleaned_seqs_1.0.fasta')"
   ]
  },
  {
   "cell_type": "markdown",
   "metadata": {},
   "source": [
    "#### 2. Remove sequences in topt dataset from ogt dataset. Reformat the fasta file with following format\n",
    "\\>Uniprot_id OGT  \n",
    "SEQUENCE"
   ]
  },
  {
   "cell_type": "code",
   "execution_count": 44,
   "metadata": {},
   "outputs": [],
   "source": [
    "def topt_seqs(infile):\n",
    "    is_topt_seq = dict()\n",
    "    for line in open(infile):\n",
    "        if not line.startswith('>'): continue\n",
    "        cont = line[1:].strip().split()\n",
    "        is_topt_seq[cont[0]] = True\n",
    "    return is_topt_seq"
   ]
  },
  {
   "cell_type": "code",
   "execution_count": 45,
   "metadata": {},
   "outputs": [],
   "source": [
    "def reformat_ogt_dataset(infile,outfile,is_topt_seq):\n",
    "    num_seq_in_topt = 0\n",
    "    recs = list()\n",
    "    ogts = list()\n",
    "    for rec in SeqIO.parse(infile,'fasta'):\n",
    "        if is_topt_seq.get(rec.id,False):\n",
    "            num_seq_in_topt += 1\n",
    "            continue\n",
    "        ogt = float(rec.description.split()[-1])\n",
    "        ogts.append(ogt)\n",
    "        rec.description = str(ogt)\n",
    "        recs.append(rec)\n",
    "    \n",
    "    fhand = open(outfile,'w')\n",
    "    SeqIO.write(recs,fhand,'fasta')\n",
    "    fhand.close()\n",
    "    \n",
    "    \n",
    "    plt.hist(ogts,50)\n",
    "    plt.show()"
   ]
  },
  {
   "cell_type": "code",
   "execution_count": 48,
   "metadata": {},
   "outputs": [
    {
     "data": {
      "image/png": "[encoded data removed]",
      "text/plain": [
       "<Figure size 432x288 with 1 Axes>"
      ]
     },
     "metadata": {
      "needs_background": "light"
     },
     "output_type": "display_data"
    }
   ],
   "source": [
    "is_topt_seq = topt_seqs('../data/cleaned_enzyme_topts_v1.fasta')\n",
    "reformat_ogt_dataset('../data/cleaned_seqs_2.0.fasta',\n",
    "                     '../data/cleaned_ogts.fasta',is_topt_seq)"
   ]
  },
  {
   "cell_type": "code",
   "execution_count": 49,
   "metadata": {},
   "outputs": [
    {
     "name": "stdout",
     "output_type": "stream",
     "text": [
      ">A0A229RQY8 28.0\r\n",
      "MSGSVILGAARTPIGRLLGSLKDFSGAQLGGFAIKAALEQAGVSPDAVQYTIMGQVLTAG\r\n",
      "AGQIPARQAAVAGGIPMTVPALTINKVCLSGLDAIALADQLIRAGEFDLIVAGGQESMTQ\r\n",
      "SPHLLPKSRAGFKYGDTTLVDHMAYDGLFCAFDQVAMGASTEKYNSRYGLTREQQDEFSA\r\n",
      "RSHQRAAAAIEAGRFDAEIAPVSIPQRKGDPVVFSKDEGVRADTTAEGLAKLRPAFASDG\r\n",
      "TITAGSASQISDGAAAVIVASKAKAEELGLTPLAEIGAHGVVSGPDASLHEQPSNAILAA\r\n",
      "LAKEKLTADALDLVEINEAFAAVGLVSAEKLGLDPEKVNVDGGAIALGHPIGASGARLAV\r\n",
      "HLIHELRRRGGGLGAAALCGGGGQGDALLLRVP\r\n",
      ">A0A1G4G7X9 37.0\r\n",
      "MAKEIKFSLLYRDMWQSSGKYVPTVDQLLEVAPAIIDMGCFARVETNGGGFEQINLLFGE\r\n"
     ]
    }
   ],
   "source": [
    "!head ../data/cleaned_ogts.fasta"
   ]
  },
  {
   "cell_type": "markdown",
   "metadata": {},
   "source": [
    "#### Visualize the OGT distribution"
   ]
  },
  {
   "cell_type": "code",
   "execution_count": 58,
   "metadata": {},
   "outputs": [],
   "source": [
    "def plot_ogt_distribution(infile,outname=None,log=False):\n",
    "    ogts = [float(line.split()[-1]) for line in open(infile) if line.startswith('>')]\n",
    "    print(len(ogts))\n",
    "    plt.figure(figsize=(4,3))\n",
    "    n, bins, patches=plt.hist(ogts,21)\n",
    "    plt.xlabel('OGT ($^\\circ$C)')\n",
    "    plt.ylabel('Count')\n",
    "    plt.title('{0} sequences'.format(len(ogts)))\n",
    "    if log: plt.yscale('log')\n",
    "    plt.tight_layout()\n",
    "    if outname is not None: plt.savefig(outname)\n",
    "    \n",
    "    plt.show()\n",
    "    return n, bins, patches"
   ]
  },
  {
   "cell_type": "code",
   "execution_count": 29,
   "metadata": {},
   "outputs": [],
   "source": [
    "ogts = [float(line.strip().split()[-1]) for line in open('../data/cleaned_seqs_2.0.fasta') if line.startswith('>')]"
   ]
  },
  {
   "cell_type": "code",
   "execution_count": 59,
   "metadata": {},
   "outputs": [
    {
     "name": "stdout",
     "output_type": "stream",
     "text": [
      "3015505\n"
     ]
    },
    {
     "data": {
      "image/png": "[encoded data removed]",
      "text/plain": [
       "<Figure size 288x216 with 1 Axes>"
      ]
     },
     "metadata": {
      "needs_background": "light"
     },
     "output_type": "display_data"
    },
    {
     "data": {
      "text/plain": [
       "(array([4.313000e+03, 9.686000e+03, 2.001000e+04, 1.019960e+05,\n",
       "        6.041930e+05, 1.259423e+06, 2.890590e+05, 5.787480e+05,\n",
       "        2.780200e+04, 1.865400e+04, 2.507400e+04, 2.428900e+04,\n",
       "        1.035500e+04, 6.872000e+03, 1.322700e+04, 3.938000e+03,\n",
       "        6.340000e+03, 6.618000e+03, 2.580000e+03, 1.769000e+03,\n",
       "        5.590000e+02]),\n",
       " array([  4.        ,   8.71428571,  13.42857143,  18.14285714,\n",
       "         22.85714286,  27.57142857,  32.28571429,  37.        ,\n",
       "         41.71428571,  46.42857143,  51.14285714,  55.85714286,\n",
       "         60.57142857,  65.28571429,  70.        ,  74.71428571,\n",
       "         79.42857143,  84.14285714,  88.85714286,  93.57142857,\n",
       "         98.28571429, 103.        ]),\n",
       " <a list of 21 Patch objects>)"
      ]
     },
     "execution_count": 59,
     "metadata": {},
     "output_type": "execute_result"
    }
   ],
   "source": [
    "plot_ogt_distribution('../data/cleaned_ogts.fasta',outname = '../figures/cleaned_ogts.pdf')"
   ]
  },
  {
   "cell_type": "code",
   "execution_count": 60,
   "metadata": {},
   "outputs": [
    {
     "name": "stdout",
     "output_type": "stream",
     "text": [
      "3015505\n"
     ]
    },
    {
     "data": {
      "image/png": "[encoded data removed]",
      "text/plain": [
       "<Figure size 288x216 with 1 Axes>"
      ]
     },
     "metadata": {
      "needs_background": "light"
     },
     "output_type": "display_data"
    },
    {
     "data": {
      "text/plain": [
       "(array([4.313000e+03, 9.686000e+03, 2.001000e+04, 1.019960e+05,\n",
       "        6.041930e+05, 1.259423e+06, 2.890590e+05, 5.787480e+05,\n",
       "        2.780200e+04, 1.865400e+04, 2.507400e+04, 2.428900e+04,\n",
       "        1.035500e+04, 6.872000e+03, 1.322700e+04, 3.938000e+03,\n",
       "        6.340000e+03, 6.618000e+03, 2.580000e+03, 1.769000e+03,\n",
       "        5.590000e+02]),\n",
       " array([  4.        ,   8.71428571,  13.42857143,  18.14285714,\n",
       "         22.85714286,  27.57142857,  32.28571429,  37.        ,\n",
       "         41.71428571,  46.42857143,  51.14285714,  55.85714286,\n",
       "         60.57142857,  65.28571429,  70.        ,  74.71428571,\n",
       "         79.42857143,  84.14285714,  88.85714286,  93.57142857,\n",
       "         98.28571429, 103.        ]),\n",
       " <a list of 21 Patch objects>)"
      ]
     },
     "execution_count": 60,
     "metadata": {},
     "output_type": "execute_result"
    }
   ],
   "source": [
    "plot_ogt_distribution('../data/cleaned_ogts.fasta',log=True,outname = '../figures/cleaned_ogts_log.pdf')"
   ]
  },
  {
   "cell_type": "code",
   "execution_count": 51,
   "metadata": {},
   "outputs": [
    {
     "name": "stdout",
     "output_type": "stream",
     "text": [
      "1902\r\n"
     ]
    }
   ],
   "source": [
    "!less ../data/cleaned_topts.fasta|grep '>'|wc -l"
   ]
  },
  {
   "cell_type": "code",
   "execution_count": 52,
   "metadata": {},
   "outputs": [
    {
     "name": "stdout",
     "output_type": "stream",
     "text": [
      "3015505\r\n"
     ]
    }
   ],
   "source": [
    "!less ../data/cleaned_ogts.fasta|grep '>'|wc -l"
   ]
  },
  {
   "cell_type": "code",
   "execution_count": 55,
   "metadata": {},
   "outputs": [
    {
     "name": "stdout",
     "output_type": "stream",
     "text": [
      "768 enzymes were removed from OGT dataset since they are in Topt dataset\n"
     ]
    }
   ],
   "source": [
    "print('{0} enzymes were removed from OGT dataset since they are in Topt dataset'.format(-3015505+3016273))"
   ]
  }
 ],
 "metadata": {
  "kernelspec": {
   "display_name": "Python 3",
   "language": "python",
   "name": "python3"
  },
  "language_info": {
   "codemirror_mode": {
    "name": "ipython",
    "version": 3
   },
   "file_extension": ".py",
   "mimetype": "text/x-python",
   "name": "python",
   "nbconvert_exporter": "python",
   "pygments_lexer": "ipython3",
   "version": "3.6.7"
  }
 },
 "nbformat": 4,
 "nbformat_minor": 2
}
