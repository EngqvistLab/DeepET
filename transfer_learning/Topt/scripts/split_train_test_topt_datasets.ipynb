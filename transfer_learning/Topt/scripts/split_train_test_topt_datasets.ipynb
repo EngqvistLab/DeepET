{
 "cells": [
  {
   "cell_type": "code",
   "execution_count": 1,
   "metadata": {},
   "outputs": [],
   "source": [
    "from Bio import SeqIO\n",
    "import numpy as np"
   ]
  },
  {
   "cell_type": "code",
   "execution_count": 2,
   "metadata": {},
   "outputs": [],
   "source": [
    "input_fasta = '../data/cleaned_enzyme_topts_v1.fasta'"
   ]
  },
  {
   "cell_type": "code",
   "execution_count": 39,
   "metadata": {},
   "outputs": [],
   "source": [
    "def split_datasets(input_fasta,split=0.9):\n",
    "    # input_fasta is a fasta file with topts and ogts of all enzymes\n",
    "    # \n",
    "    \n",
    "    # 1. remove those enzymes longer than 2000 residues\n",
    "    recs = [rec for rec in SeqIO.parse(input_fasta,'fasta') if len(rec.seq)<=2000]\n",
    "    print('Number of sequnces:', len(recs))\n",
    "    print('ori',[recs[i].id for i in range(5)])\n",
    "    recs = np.array(recs)\n",
    "    \n",
    "    # 2. random split it into train and test\n",
    "    np.random.seed(212)\n",
    "    shuffled_index = np.arange(len(recs))\n",
    "    np.random.shuffle(shuffled_index)\n",
    "    np.random.seed()\n",
    "    print(shuffled_index)\n",
    "    recs = recs[shuffled_index]\n",
    "    print('shuffuled',[recs[i].id for i in range(5)])\n",
    "    split_point = int(split*len(recs))\n",
    "    training_seqs = recs[:split_point]\n",
    "    test_seqs     = recs[split_point:]\n",
    "    \n",
    "    print('Number of training seqs',len(training_seqs))\n",
    "    print('Number of test seqs',len(test_seqs))\n",
    "    \n",
    "    # save fasta files\n",
    "    trainfile = input_fasta.replace('.fasta','')+'_train.fasta'\n",
    "    testfile = input_fasta.replace('.fasta','')+'_test.fasta'\n",
    "    \n",
    "    ftrain = open(trainfile,'w')\n",
    "    ftest = open(testfile,'w')\n",
    "    \n",
    "    SeqIO.write(training_seqs,ftrain,'fasta')\n",
    "    SeqIO.write(test_seqs,ftest,'fasta')\n",
    "    \n",
    "    ftrain.close()\n",
    "    ftest.close()"
   ]
  },
  {
   "cell_type": "code",
   "execution_count": 40,
   "metadata": {},
   "outputs": [
    {
     "name": "stdout",
     "output_type": "stream",
     "text": [
      "Number of sequnces: 1896\n",
      "ori ['K9L4P7', 'Q9L7P2', 'Q5JDG9', 'A0A0K2RV92', 'Q7S3R5']\n",
      "[ 633   79  778 ... 1250  573  280]\n",
      "shuffuled ['Q96XN9', 'Q7BPX6', 'Q70GL3', 'P9WJN3', 'P24228']\n",
      "Number of training seqs 1706\n",
      "Number of test seqs 190\n"
     ]
    }
   ],
   "source": [
    "split_datasets(input_fasta,split=0.9)"
   ]
  },
  {
   "cell_type": "code",
   "execution_count": 42,
   "metadata": {},
   "outputs": [
    {
     "name": "stdout",
     "output_type": "stream",
     "text": [
      ">Q96XN9 ogt=75;topt=80.0\r\n",
      "MAKLITLGEILIEFNALSPGPLRHVSYFEKHVAGSEANYCVAFIKQGNECGIIAKVGDDE\r\n",
      "FGYNAIEWLRGQGVDVSHMKIDPSAPTGIFFIQRHYPVPLKSESIYYRKGSAGSKLSPED\r\n",
      "VDEEYVKSADLVHSSGITLAISSTAKEAVYKAFEIASNRSFDTNIRLKLWSAEEAKREIL\r\n",
      "KLLSKFHLKFLITDTDDSKIILGESDPDKAAKAFSDYAEIIVMKLGPKGAIVYYDGKKYY\r\n",
      "SSGYQVPVEDVTGAGDALGGTFLSLYYKGFEMEKALDYAIVASTLNVMIRGDQENLPTTK\r\n",
      "DIETFLREMKK\r\n",
      ">Q7BPX6 ogt=31;topt=38.0\r\n",
      "MAINLDWENLGFSYRNLPFRYIARFKDGKWSAGELTGDNQLHISESSPALHYGQQGFEGL\r\n",
      "KAYRTKDGSIQLFRPDQNAARLQKTARRLCMAEVSTEMFIDAVKQVVKANKDFVPPYGTG\r\n"
     ]
    }
   ],
   "source": [
    "!less ../data/cleaned_enzyme_topts_v1_train.fasta|head"
   ]
  },
  {
   "cell_type": "code",
   "execution_count": 43,
   "metadata": {},
   "outputs": [
    {
     "name": "stdout",
     "output_type": "stream",
     "text": [
      ">B8Y3Y0 ogt=nan;topt=45.0\r\n",
      "MKNKVQLIAYVDRISGGGFRKLHALLTGPLAEIFGGAHLLPFFTPIDGADAGFDPSDHTQ\r\n",
      "VDPRLGTWDDVRILGGAIELVADLIVNHVSSSSPQFIDYSKKGSDSLYAGMFLTYDRVFP\r\n",
      "EGAREADILRIYRPRPTLPFSPVTLSSRERKLLWTTFNPEQVDIDVRHPEAEAYLHSILK\r\n",
      "KFQAAGIRMIRLDAVGYAIKKPGASCFMIPETFDFIAELTEKARALGIEVLVEIHSHYRK\r\n",
      "QIEIARQVDWVYDFALPPLVLHALFASDPHPLAQWLSISPRNAVTVLDTHDGIGVIDVGA\r\n",
      "DAEGNPGLLSPAAIDSLVETIHSRSQGQSREATGAAANNLDLYQVNCTFLDALGGREPDY\r\n",
      "LIARALQFFAPGIPQVYYVGLLGGTNDMDLLGRSGVGRDINRHYYTDAEIDAALARPLVR\r\n",
      "TLIALIRLRNTHPAFAGEFDVSVPAATQIRLRWQRQEHWIELHVDLSIPKASITGTGIHP\r\n",
      "ITIPGAADAGAPS\r\n"
     ]
    }
   ],
   "source": [
    "!less ../data/cleaned_enzyme_topts_v1_test.fasta|head"
   ]
  }
 ],
 "metadata": {
  "kernelspec": {
   "display_name": "Python 3",
   "language": "python",
   "name": "python3"
  },
  "language_info": {
   "codemirror_mode": {
    "name": "ipython",
    "version": 3
   },
   "file_extension": ".py",
   "mimetype": "text/x-python",
   "name": "python",
   "nbconvert_exporter": "python",
   "pygments_lexer": "ipython3",
   "version": "3.6.7"
  }
 },
 "nbformat": 4,
 "nbformat_minor": 2
}
