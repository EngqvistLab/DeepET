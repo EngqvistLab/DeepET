{
 "cells": [
  {
   "cell_type": "code",
   "execution_count": 1,
   "metadata": {},
   "outputs": [],
   "source": [
    "import pandas as pd\n",
    "from matplotlib import pyplot as plt\n",
    "import numpy as np\n",
    "import os\n",
    "import pickle\n",
    "\n",
    "from scipy.stats import pearsonr as pr\n",
    "from scipy.stats import spearmanr as sr\n",
    "from sklearn.metrics import r2_score\n",
    "from sklearn.metrics import mean_squared_error as MSE\n",
    "\n",
    "from scipy.stats import ttest_ind"
   ]
  },
  {
   "cell_type": "code",
   "execution_count": 6,
   "metadata": {},
   "outputs": [],
   "source": [
    "r2_scores0 =  pickle.load(open('../../results/topt_models/transfer_topt_test_score.pkl','rb'))"
   ]
  },
  {
   "cell_type": "code",
   "execution_count": 21,
   "metadata": {},
   "outputs": [
    {
     "name": "stdout",
     "output_type": "stream",
     "text": [
      "TL6_RES1_ogt_onehot_SameAnces/bestmodel6.h5 0.5684075812138791\n"
     ]
    }
   ],
   "source": [
    "best_model, best_score = None,-1\n",
    "for i,_ in enumerate(r2_scores0[0]):\n",
    "    if r2_scores0[2][i]>best_score: \n",
    "        best_model = r2_scores0[0][i]\n",
    "        best_score = r2_scores0[2][i]\n",
    "print(best_model,best_score)"
   ]
  },
  {
   "cell_type": "code",
   "execution_count": null,
   "metadata": {},
   "outputs": [],
   "source": []
  },
  {
   "cell_type": "markdown",
   "metadata": {},
   "source": [
    "#### Compare performance of different models"
   ]
  },
  {
   "cell_type": "code",
   "execution_count": 2,
   "metadata": {},
   "outputs": [],
   "source": [
    "r2_scores = pickle.load(open('../../results/topt_models/r2_on_test_topt_all_types.pkl','rb'))"
   ]
  },
  {
   "cell_type": "code",
   "execution_count": 3,
   "metadata": {},
   "outputs": [
    {
     "data": {
      "text/plain": [
       "[[[0.37211313707947946],\n",
       "  [0.1586008073967482],\n",
       "  [0.3997920986040495,\n",
       "   0.3358497746311945,\n",
       "   0.3924703214200951,\n",
       "   0.3743029295786101,\n",
       "   0.4091805123610225,\n",
       "   0.4086558250245357,\n",
       "   0.366856437960731,\n",
       "   0.43290626253444486,\n",
       "   0.3669736455687269,\n",
       "   0.37778554620419913],\n",
       "  [0.267849949721668,\n",
       "   0.2717763038175439,\n",
       "   0.20339083663571056,\n",
       "   0.2638848062715895,\n",
       "   0.28122739907606265,\n",
       "   0.23958428602598836,\n",
       "   0.26157360018028,\n",
       "   0.15249636056493066,\n",
       "   0.2889785166188793,\n",
       "   0.24055494703651148],\n",
       "  [0.5236931031005095,\n",
       "   0.5357039485041445,\n",
       "   0.5367692848794641,\n",
       "   0.5429818763208936,\n",
       "   0.5212716385313025,\n",
       "   0.531190561448953,\n",
       "   0.5318712754201425,\n",
       "   0.4782067744357239,\n",
       "   0.5260603615543262,\n",
       "   0.5435458095575127],\n",
       "  [0.5248687138127488,\n",
       "   0.5684075812138791,\n",
       "   0.5263005662222928,\n",
       "   0.5239569608751211,\n",
       "   0.5510492487904015,\n",
       "   0.5193410030660439,\n",
       "   0.4896528185011023,\n",
       "   0.5297945061375078,\n",
       "   0.5365952748985379,\n",
       "   0.5050962098974101],\n",
       "  [0.49398535925837295,\n",
       "   0.48871417456015964,\n",
       "   0.5055325019993923,\n",
       "   0.5025010540062974,\n",
       "   0.5018900826918821,\n",
       "   0.5042446100426685,\n",
       "   0.5143124632033969,\n",
       "   0.48629983466379023,\n",
       "   0.5061824890430264,\n",
       "   0.44849670842406675],\n",
       "  [0.3886089819576648,\n",
       "   0.37267657339793536,\n",
       "   0.22142290912013451,\n",
       "   0.35649568711167223,\n",
       "   0.2641796127493007,\n",
       "   0.32323324344845306,\n",
       "   0.31348723827091074,\n",
       "   0.3332128540161621,\n",
       "   0.36013032022633906,\n",
       "   0.3554969341512054,\n",
       "   0.2963641548538243,\n",
       "   0.3730610950590272,\n",
       "   0.3117283660727772,\n",
       "   0.3604102515285582,\n",
       "   0.41556416900587523,\n",
       "   0.3520889629515751,\n",
       "   0.36323176702144055,\n",
       "   0.34731301439884654,\n",
       "   0.33559634744895117,\n",
       "   0.3539937826942363]],\n",
       " ['iFeatures',\n",
       "  'UniRep',\n",
       "  'Type1-scratch',\n",
       "  'Type2-scratch',\n",
       "  'Type1-TL1',\n",
       "  'Type1-TL6',\n",
       "  'Type2-TL1',\n",
       "  'Type2-TL6']]"
      ]
     },
     "execution_count": 3,
     "metadata": {},
     "output_type": "execute_result"
    }
   ],
   "source": [
    "r2_scores"
   ]
  },
  {
   "cell_type": "code",
   "execution_count": 2,
   "metadata": {},
   "outputs": [
    {
     "name": "stdout",
     "output_type": "stream",
     "text": [
      "{'iFeatures': [0.37211313707947946], 'UniRep': [0.1586008073967482], 'Type1-scratch': [0.3997920986040495, 0.3358497746311945, 0.3924703214200951, 0.3743029295786101, 0.4091805123610225, 0.4086558250245357, 0.366856437960731, 0.43290626253444486, 0.3669736455687269, 0.37778554620419913], 'Type2-scratch': [0.267849949721668, 0.2717763038175439, 0.20339083663571056, 0.2638848062715895, 0.28122739907606265, 0.23958428602598836, 0.26157360018028, 0.15249636056493066, 0.2889785166188793, 0.24055494703651148], 'Type1-TL1': [0.5236931031005095, 0.5357039485041445, 0.5367692848794641, 0.5429818763208936, 0.5212716385313025, 0.531190561448953, 0.5318712754201425, 0.4782067744357239, 0.5260603615543262, 0.5435458095575127], 'Type1-TL6': [0.5248687138127488, 0.5684075812138791, 0.5263005662222928, 0.5239569608751211, 0.5510492487904015, 0.5193410030660439, 0.4896528185011023, 0.5297945061375078, 0.5365952748985379, 0.5050962098974101], 'Type2-TL1': [0.49398535925837295, 0.48871417456015964, 0.5055325019993923, 0.5025010540062974, 0.5018900826918821, 0.5042446100426685, 0.5143124632033969, 0.48629983466379023, 0.5061824890430264, 0.44849670842406675], 'Type2-TL6': [0.3886089819576648, 0.37267657339793536, 0.22142290912013451, 0.35649568711167223, 0.2641796127493007, 0.32323324344845306, 0.31348723827091074, 0.3332128540161621, 0.36013032022633906, 0.3554969341512054, 0.2963641548538243, 0.3730610950590272, 0.3117283660727772, 0.3604102515285582, 0.41556416900587523, 0.3520889629515751, 0.36323176702144055, 0.34731301439884654, 0.33559634744895117, 0.3539937826942363]}\n"
     ]
    }
   ],
   "source": [
    "r2_scores = {r2_scores[1][i]:r2_scores[0][i] for i in range(len(r2_scores[0]))}\n",
    "print(r2_scores)"
   ]
  },
  {
   "cell_type": "code",
   "execution_count": 3,
   "metadata": {},
   "outputs": [],
   "source": [
    "df_ifeature = pd.read_csv('../../results/topt_models/ClassicalModels/iFeatures_score.csv',index_col=0)\n",
    "r2_scores['iFeatures'] = df_ifeature.sort_values('test_r2')['test_r2'].values[-3:]"
   ]
  },
  {
   "cell_type": "code",
   "execution_count": 4,
   "metadata": {},
   "outputs": [],
   "source": [
    "df_unirep = pd.read_csv('../../results/topt_models/ClassicalModels/unirep_score.csv',index_col=0)\n",
    "r2_scores['UniRep'] = df_unirep.sort_values('test_r2')['test_r2'].values[-3:]"
   ]
  },
  {
   "cell_type": "code",
   "execution_count": 5,
   "metadata": {},
   "outputs": [
    {
     "data": {
      "text/plain": [
       "{'iFeatures': array([0.25142777, 0.31513792, 0.37211314]),\n",
       " 'UniRep': array([0.17888684, 0.19878616, 0.35173262]),\n",
       " 'Type1-scratch': [0.3997920986040495,\n",
       "  0.3358497746311945,\n",
       "  0.3924703214200951,\n",
       "  0.3743029295786101,\n",
       "  0.4091805123610225,\n",
       "  0.4086558250245357,\n",
       "  0.366856437960731,\n",
       "  0.43290626253444486,\n",
       "  0.3669736455687269,\n",
       "  0.37778554620419913],\n",
       " 'Type2-scratch': [0.267849949721668,\n",
       "  0.2717763038175439,\n",
       "  0.20339083663571056,\n",
       "  0.2638848062715895,\n",
       "  0.28122739907606265,\n",
       "  0.23958428602598836,\n",
       "  0.26157360018028,\n",
       "  0.15249636056493066,\n",
       "  0.2889785166188793,\n",
       "  0.24055494703651148],\n",
       " 'Type1-TL1': [0.5236931031005095,\n",
       "  0.5357039485041445,\n",
       "  0.5367692848794641,\n",
       "  0.5429818763208936,\n",
       "  0.5212716385313025,\n",
       "  0.531190561448953,\n",
       "  0.5318712754201425,\n",
       "  0.4782067744357239,\n",
       "  0.5260603615543262,\n",
       "  0.5435458095575127],\n",
       " 'Type1-TL6': [0.5248687138127488,\n",
       "  0.5684075812138791,\n",
       "  0.5263005662222928,\n",
       "  0.5239569608751211,\n",
       "  0.5510492487904015,\n",
       "  0.5193410030660439,\n",
       "  0.4896528185011023,\n",
       "  0.5297945061375078,\n",
       "  0.5365952748985379,\n",
       "  0.5050962098974101],\n",
       " 'Type2-TL1': [0.49398535925837295,\n",
       "  0.48871417456015964,\n",
       "  0.5055325019993923,\n",
       "  0.5025010540062974,\n",
       "  0.5018900826918821,\n",
       "  0.5042446100426685,\n",
       "  0.5143124632033969,\n",
       "  0.48629983466379023,\n",
       "  0.5061824890430264,\n",
       "  0.44849670842406675],\n",
       " 'Type2-TL6': [0.3886089819576648,\n",
       "  0.37267657339793536,\n",
       "  0.22142290912013451,\n",
       "  0.35649568711167223,\n",
       "  0.2641796127493007,\n",
       "  0.32323324344845306,\n",
       "  0.31348723827091074,\n",
       "  0.3332128540161621,\n",
       "  0.36013032022633906,\n",
       "  0.3554969341512054,\n",
       "  0.2963641548538243,\n",
       "  0.3730610950590272,\n",
       "  0.3117283660727772,\n",
       "  0.3604102515285582,\n",
       "  0.41556416900587523,\n",
       "  0.3520889629515751,\n",
       "  0.36323176702144055,\n",
       "  0.34731301439884654,\n",
       "  0.33559634744895117,\n",
       "  0.3539937826942363]}"
      ]
     },
     "execution_count": 5,
     "metadata": {},
     "output_type": "execute_result"
    }
   ],
   "source": [
    "r2_scores"
   ]
  },
  {
   "cell_type": "code",
   "execution_count": 6,
   "metadata": {},
   "outputs": [],
   "source": [
    "?ttest_ind"
   ]
  },
  {
   "cell_type": "code",
   "execution_count": 7,
   "metadata": {},
   "outputs": [
    {
     "data": {
      "text/plain": [
       "Ttest_indResult(statistic=-0.04126610963086447, pvalue=0.9675490094287083)"
      ]
     },
     "execution_count": 7,
     "metadata": {},
     "output_type": "execute_result"
    }
   ],
   "source": [
    "ttest_ind(r2_scores['Type1-TL1'],r2_scores['Type1-TL6'],equal_var=False)"
   ]
  },
  {
   "cell_type": "code",
   "execution_count": 8,
   "metadata": {},
   "outputs": [
    {
     "data": {
      "text/plain": [
       "Ttest_indResult(statistic=-12.604907249136657, pvalue=4.4002405051383844e-10)"
      ]
     },
     "execution_count": 8,
     "metadata": {},
     "output_type": "execute_result"
    }
   ],
   "source": [
    "ttest_ind(r2_scores['Type1-scratch'],r2_scores['Type1-TL6'],equal_var=False)"
   ]
  },
  {
   "cell_type": "code",
   "execution_count": 10,
   "metadata": {},
   "outputs": [],
   "source": [
    "data_frozen_all = pickle.load(open('../../results/topt_models/TL_RES1_fronzen_all_layers.pkl','rb'))"
   ]
  },
  {
   "cell_type": "code",
   "execution_count": 11,
   "metadata": {},
   "outputs": [],
   "source": [
    "xticks = [\n",
    "  'iFeatures',\n",
    "  'UniRep',\n",
    "  'From Scratch',\n",
    "  'FrozenAll',\n",
    "  'FrozenCNN',\n",
    "  'TuneAll']\n",
    "\n",
    "r2s = [\n",
    "    r2_scores['iFeatures'],\n",
    "    r2_scores['UniRep'],\n",
    "    r2_scores['Type1-scratch'],\n",
    "    [data_frozen_all['r2_score']],\n",
    "    r2_scores['Type1-TL6'],\n",
    "    r2_scores['Type1-TL1'],\n",
    "]\n",
    "rmses = []\n",
    "for lst in r2s:\n",
    "    new_lst = [np.sqrt((1-r2)*np.var(data_frozen_all['true_topt'])) for r2 in lst]\n",
    "    rmses.append(new_lst)"
   ]
  },
  {
   "cell_type": "code",
   "execution_count": 14,
   "metadata": {},
   "outputs": [
    {
     "data": {
      "text/plain": [
       "[0.5236931031005095,\n",
       " 0.5357039485041445,\n",
       " 0.5367692848794641,\n",
       " 0.5429818763208936,\n",
       " 0.5212716385313025,\n",
       " 0.531190561448953,\n",
       " 0.5318712754201425,\n",
       " 0.4782067744357239,\n",
       " 0.5260603615543262,\n",
       " 0.5435458095575127]"
      ]
     },
     "execution_count": 14,
     "metadata": {},
     "output_type": "execute_result"
    }
   ],
   "source": [
    "r2s[-1]"
   ]
  },
  {
   "cell_type": "code",
   "execution_count": 12,
   "metadata": {},
   "outputs": [],
   "source": [
    "def do_plot(data,ylabel,outname=None,ylim=None,metric=np.mean):\n",
    "    plt.figure(figsize=(3,2.9))\n",
    "    pos = np.arange(len(data))\n",
    "    #cs = ['#fc8d59' if 'Type2' in str(tick) else '#1f78b4'for tick in xticks]\n",
    "    plt.bar(pos,[metric(item) for item in data],zorder=0,color='#d95f02')\n",
    "    for i,lst in enumerate(data):\n",
    "        plt.scatter(np.array([pos[i]]*len(lst))+np.random.normal(0,0.1,size=len(lst)),lst,color='k',s=6)\n",
    "        if np.mean(lst)<0: plt.text(i,0.01,'{:.2f}'.format(np.mean(lst)),ha='center',va='bottom')\n",
    "    plt.xticks(pos,xticks,rotation=45,ha='right')\n",
    "    #plt.xticks(pos)\n",
    "    #plt.xlabel('Types')\n",
    "    plt.ylabel(ylabel)\n",
    "    if ylim is not None: plt.ylim(ylim)\n",
    "    \n",
    "    plt.tight_layout()\n",
    "    if outname is not None: plt.savefig(outname,bbox_inches='tight',transparent=True)\n",
    "    plt.show()"
   ]
  },
  {
   "cell_type": "code",
   "execution_count": 27,
   "metadata": {},
   "outputs": [
    {
     "data": {
      "image/png": "[encoded data removed]",
      "text/plain": [
       "<Figure size 216x208.8 with 1 Axes>"
      ]
     },
     "metadata": {
      "needs_background": "light"
     },
     "output_type": "display_data"
    }
   ],
   "source": [
    "do_plot(r2s,'$R^2$','../../results/figures/topt_r2_scores_different_models.pdf',ylim=(0,0.6),metric=np.max)"
   ]
  },
  {
   "cell_type": "code",
   "execution_count": 28,
   "metadata": {},
   "outputs": [
    {
     "data": {
      "image/png": "[encoded data removed]",
      "text/plain": [
       "<Figure size 216x208.8 with 1 Axes>"
      ]
     },
     "metadata": {
      "needs_background": "light"
     },
     "output_type": "display_data"
    }
   ],
   "source": [
    "do_plot(rmses,'RMSE ($^\\circ$C)','../../results/figures/topt_rmse_scores_different_models.pdf',ylim=(10,22),metric=np.min)"
   ]
  },
  {
   "cell_type": "markdown",
   "metadata": {},
   "source": [
    "#### Plot best model"
   ]
  },
  {
   "cell_type": "code",
   "execution_count": 7,
   "metadata": {},
   "outputs": [],
   "source": [
    "data = pickle.load(open('../../results/topt_models/transfer_topt_test_score.pkl','rb'))"
   ]
  },
  {
   "cell_type": "code",
   "execution_count": 8,
   "metadata": {},
   "outputs": [
    {
     "name": "stdout",
     "output_type": "stream",
     "text": [
      "TL6_RES1_ogt_onehot_SameAnces/bestmodel6.h5 0.5684075812138791\n"
     ]
    }
   ],
   "source": [
    "best_r2 = -np.inf\n",
    "for i,name in enumerate(data[0]):\n",
    "    if 'RES1' not in name: continue\n",
    "    if data[2][i]>best_r2: \n",
    "        best_r2 = data[2][i]\n",
    "        best_yp = data[1][i]\n",
    "        best_name = data[0][i]\n",
    "print(best_name,best_r2)"
   ]
  },
  {
   "cell_type": "code",
   "execution_count": 47,
   "metadata": {},
   "outputs": [
    {
     "name": "stdout",
     "output_type": "stream",
     "text": [
      "190\n",
      "pr: (array([0.75827951]), array([8.96416876e-37]))\n",
      "sr: SpearmanrResult(correlation=0.6236560476500741, pvalue=7.198495456514046e-22)\n",
      "r2: 0.5684075812072407\n",
      "rmse: 12.152398547707438\n"
     ]
    },
    {
     "data": {
      "image/png": "[encoded data removed]",
      "text/plain": [
       "<Figure size 216x180 with 1 Axes>"
      ]
     },
     "metadata": {
      "needs_background": "light"
     },
     "output_type": "display_data"
    }
   ],
   "source": [
    "plt.figure(figsize=(3.,2.5))\n",
    "\n",
    "y = data_frozen_all['true_topt']\n",
    "x = best_yp\n",
    "print(len(y))\n",
    "print('pr:',pr(y,x))\n",
    "print('sr:',sr(y,x))\n",
    "print('r2:',r2_score(y,x))\n",
    "print('rmse:',np.sqrt(MSE(y,x)))\n",
    "        \n",
    "lim = [0,125]\n",
    "plt.scatter(best_yp,data_frozen_all['true_topt'],zorder=1,s=20,edgecolor='#d95f02',facecolor='none')\n",
    "plt.plot(lim,lim,zorder=0,c='gray')\n",
    "plt.xticks(np.arange(0,145,25))\n",
    "plt.yticks(np.arange(0,145,25))\n",
    "plt.xlim(lim)\n",
    "plt.ylim(lim)\n",
    "\n",
    "\n",
    "plt.xlabel('Predicted $T_{opt}$ ($^\\circ$C)')\n",
    "plt.ylabel('Experimental $T_{opt}$ ($^\\circ$C)')\n",
    "plt.tight_layout()\n",
    "plt.savefig('../../results/figures/best_topt_tl_model_TL6_RES1_bestmodel6.pdf',transparent=True)\n",
    "plt.show()"
   ]
  },
  {
   "cell_type": "code",
   "execution_count": 15,
   "metadata": {},
   "outputs": [
    {
     "data": {
      "text/plain": [
       "array([  0,  25,  50,  75, 100, 125])"
      ]
     },
     "execution_count": 15,
     "metadata": {},
     "output_type": "execute_result"
    }
   ],
   "source": [
    "np.arange(0,145,25)"
   ]
  },
  {
   "cell_type": "markdown",
   "metadata": {},
   "source": [
    "#### Visualize the distribution of the dataset"
   ]
  },
  {
   "cell_type": "code",
   "execution_count": 2,
   "metadata": {},
   "outputs": [],
   "source": [
    "def plot_ogt(fasta,outname=None):\n",
    "    tms = [float(line.strip().split('=')[-1]) for line in open(fasta) if line.startswith('>')]\n",
    "    print('Number of seqs:',len(tms))\n",
    "    plt.figure(figsize=(3,2.5))\n",
    "    plt.hist(tms,50,color='#d95f02')\n",
    "    plt.xlabel('$T_{opt}$ ($^\\circ$C)')\n",
    "    plt.ylabel('Count')\n",
    "    #plt.ticklabel_format(axis=\"y\", style=\"sci\", scilimits=(0,0))\n",
    "    #plt.tight_layout()\n",
    "    if outname is not None: plt.savefig(outname,bbox_inches='tight')\n",
    "    plt.show()"
   ]
  },
  {
   "cell_type": "code",
   "execution_count": 3,
   "metadata": {},
   "outputs": [
    {
     "name": "stdout",
     "output_type": "stream",
     "text": [
      "Number of seqs: 1902\n"
     ]
    },
    {
     "data": {
      "image/png": "[encoded data removed]",
      "text/plain": [
       "<Figure size 216x180 with 1 Axes>"
      ]
     },
     "metadata": {
      "needs_background": "light"
     },
     "output_type": "display_data"
    }
   ],
   "source": [
    "plot_ogt('../../data/topt/cleaned_enzyme_topts_v1.fasta',\n",
    "         outname='../../results/figures/topt_distribution.png')"
   ]
  },
  {
   "cell_type": "code",
   "execution_count": null,
   "metadata": {},
   "outputs": [],
   "source": []
  }
 ],
 "metadata": {
  "kernelspec": {
   "display_name": "Python 3",
   "language": "python",
   "name": "python3"
  },
  "language_info": {
   "codemirror_mode": {
    "name": "ipython",
    "version": 3
   },
   "file_extension": ".py",
   "mimetype": "text/x-python",
   "name": "python",
   "nbconvert_exporter": "python",
   "pygments_lexer": "ipython3",
   "version": "3.6.7"
  }
 },
 "nbformat": 4,
 "nbformat_minor": 2
}
