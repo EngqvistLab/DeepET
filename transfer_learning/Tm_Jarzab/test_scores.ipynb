{
 "cells": [
  {
   "cell_type": "code",
   "execution_count": 1,
   "metadata": {},
   "outputs": [
    {
     "name": "stderr",
     "output_type": "stream",
     "text": [
      "Using TensorFlow backend.\n"
     ]
    }
   ],
   "source": [
    "import sys\n",
    "sys.path.append('../../scripts/')\n",
    "from keras.models import load_model\n",
    "import Preprocessing as Prep\n",
    "from my_callbacks import coef_det_k\n",
    "from keras import backend as K\n",
    "import numpy as np\n",
    "import pickle\n",
    "from  sklearn.metrics import mean_squared_error as MSE\n",
    "import os"
   ]
  },
  {
   "cell_type": "code",
   "execution_count": 2,
   "metadata": {},
   "outputs": [],
   "source": [
    "def coef_det_k_2(y_true, y_pred):\n",
    "    \"\"\"Computer coefficient of determination R^2\n",
    "    \"\"\"\n",
    "    SS_res = np.sum(np.square(y_true - y_pred))\n",
    "    SS_tot = np.sum(np.square(y_true - np.mean(y_true)))\n",
    "    return 1 - SS_res / (SS_tot + 1e-6)"
   ]
  },
  {
   "cell_type": "code",
   "execution_count": 3,
   "metadata": {},
   "outputs": [],
   "source": [
    "def test_one_model(model_file):\n",
    "    X_hot, Y_hot = Prep.make_encoding('../../data/tm_Jarzab/cleaned_enzyme_tms_jarzab_v1_test.fasta')\n",
    "    model = load_model(model_file,custom_objects={'coef_det_k':coef_det_k})\n",
    "    yp = model.predict(X_hot)\n",
    "    r2_test = coef_det_k_2(Y_hot,yp)\n",
    "    rmse = np.sqrt(MSE(Y_hot,yp))\n",
    "    print(r2_test)\n",
    "    K.clear_session()\n",
    "    del model, X_hot\n",
    "    return r2_test,rmse, Y_hot, yp"
   ]
  },
  {
   "cell_type": "code",
   "execution_count": 4,
   "metadata": {},
   "outputs": [
    {
     "name": "stdout",
     "output_type": "stream",
     "text": [
      "../../results/tm_Jarzab_models/TL6_RES1_ogt_onehot_SameAnces/bestmodel9.h5\n",
      "(4173, 2000, 20) (4173, 1)\n",
      "0.5073633433816283\n",
      "../../results/tm_Jarzab_models/TL6_RES1_ogt_onehot_SameAnces/bestmodel6.h5\n",
      "(4173, 2000, 20) (4173, 1)\n",
      "0.48453283111953815\n",
      "../../results/tm_Jarzab_models/TL6_RES1_ogt_onehot_SameAnces/bestmodel10.h5\n",
      "(4173, 2000, 20) (4173, 1)\n",
      "0.5031952445778425\n",
      "../../results/tm_Jarzab_models/TL6_RES1_ogt_onehot_SameAnces/bestmodel3.h5\n",
      "(4173, 2000, 20) (4173, 1)\n",
      "0.48592762871595996\n",
      "../../results/tm_Jarzab_models/TL6_RES1_ogt_onehot_SameAnces/bestmodel7.h5\n",
      "(4173, 2000, 20) (4173, 1)\n",
      "0.4970413078879543\n",
      "../../results/tm_Jarzab_models/TL6_RES1_ogt_onehot_SameAnces/bestmodel8.h5\n",
      "(4173, 2000, 20) (4173, 1)\n",
      "0.48986592579319044\n",
      "../../results/tm_Jarzab_models/TL6_RES1_ogt_onehot_SameAnces/bestmodel4.h5\n",
      "(4173, 2000, 20) (4173, 1)\n",
      "0.49765504695824647\n",
      "../../results/tm_Jarzab_models/TL6_RES1_ogt_onehot_SameAnces/bestmodel1.h5\n",
      "(4173, 2000, 20) (4173, 1)\n",
      "0.49539998902983573\n",
      "../../results/tm_Jarzab_models/TL6_RES1_ogt_onehot_SameAnces/bestmodel5.h5\n",
      "(4173, 2000, 20) (4173, 1)\n",
      "0.49369575332232707\n",
      "../../results/tm_Jarzab_models/TL6_RES1_ogt_onehot_SameAnces/bestmodel2.h5\n",
      "(4173, 2000, 20) (4173, 1)\n",
      "0.49277187089551333\n",
      "../../results/tm_Jarzab_models/TL1_RES1_ogt_onehot_SameAnces/bestmodel3.h5\n",
      "(4173, 2000, 20) (4173, 1)\n",
      "0.5663844024448922\n",
      "../../results/tm_Jarzab_models/TL1_RES1_ogt_onehot_SameAnces/bestmodel1.h5\n",
      "(4173, 2000, 20) (4173, 1)\n",
      "0.5708606544839717\n",
      "../../results/tm_Jarzab_models/TL1_RES1_ogt_onehot_SameAnces/bestmodel2.h5\n",
      "(4173, 2000, 20) (4173, 1)\n",
      "0.5767582987745026\n",
      "../../results/tm_Jarzab_models/Tm_Scratch/bestmodel9.h5\n",
      "(4173, 2000, 20) (4173, 1)\n",
      "0.05602734425110567\n",
      "../../results/tm_Jarzab_models/Tm_Scratch/bestmodel6.h5\n",
      "(4173, 2000, 20) (4173, 1)\n",
      "0.47192738006164625\n",
      "../../results/tm_Jarzab_models/Tm_Scratch/bestmodel10.h5\n",
      "(4173, 2000, 20) (4173, 1)\n",
      "0.5103816273170791\n",
      "../../results/tm_Jarzab_models/Tm_Scratch/bestmodel3.h5\n",
      "(4173, 2000, 20) (4173, 1)\n",
      "0.4827473936017864\n",
      "../../results/tm_Jarzab_models/Tm_Scratch/bestmodel7.h5\n",
      "(4173, 2000, 20) (4173, 1)\n",
      "0.4666449864431802\n",
      "../../results/tm_Jarzab_models/Tm_Scratch/bestmodel8.h5\n",
      "(4173, 2000, 20) (4173, 1)\n",
      "0.47996847622288275\n",
      "../../results/tm_Jarzab_models/Tm_Scratch/bestmodel4.h5\n",
      "(4173, 2000, 20) (4173, 1)\n",
      "0.48012455013078026\n",
      "../../results/tm_Jarzab_models/Tm_Scratch/bestmodel1.h5\n",
      "(4173, 2000, 20) (4173, 1)\n",
      "0.47444455781789996\n",
      "../../results/tm_Jarzab_models/Tm_Scratch/bestmodel5.h5\n",
      "(4173, 2000, 20) (4173, 1)\n",
      "0.5047369732550041\n",
      "../../results/tm_Jarzab_models/Tm_Scratch/bestmodel2.h5\n",
      "(4173, 2000, 20) (4173, 1)\n",
      "0.4956354342108885\n"
     ]
    }
   ],
   "source": [
    "resuls = dict()\n",
    "indir = '../../results/tm_Jarzab_models/'\n",
    "for name in os.listdir(indir):\n",
    "    if 'TL1' in name or 'TL6' in name or 'Tm_' in name:\n",
    "        for file in os.listdir(os.path.join(indir,name)):\n",
    "            if not file.endswith('.h5'): continue\n",
    "            model_file = os.path.join(indir,name,file)\n",
    "            print(model_file)\n",
    "            resuls[model_file] = test_one_model(model_file)"
   ]
  },
  {
   "cell_type": "code",
   "execution_count": 5,
   "metadata": {},
   "outputs": [],
   "source": [
    "pickle.dump(resuls,open('../../results/tm_Jarzab_models/TL16_scratch_results.pkl','wb'))"
   ]
  },
  {
   "cell_type": "code",
   "execution_count": null,
   "metadata": {},
   "outputs": [],
   "source": []
  }
 ],
 "metadata": {
  "kernelspec": {
   "display_name": "deepnn",
   "language": "python",
   "name": "base"
  },
  "language_info": {
   "codemirror_mode": {
    "name": "ipython",
    "version": 3
   },
   "file_extension": ".py",
   "mimetype": "text/x-python",
   "name": "python",
   "nbconvert_exporter": "python",
   "pygments_lexer": "ipython3",
   "version": "3.6.8"
  }
 },
 "nbformat": 4,
 "nbformat_minor": 2
}
