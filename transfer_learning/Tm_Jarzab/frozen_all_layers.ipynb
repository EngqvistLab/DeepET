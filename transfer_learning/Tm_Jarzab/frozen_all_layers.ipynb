{
 "cells": [
  {
   "cell_type": "code",
   "execution_count": 1,
   "metadata": {},
   "outputs": [
    {
     "name": "stderr",
     "output_type": "stream",
     "text": [
      "Using TensorFlow backend.\n"
     ]
    }
   ],
   "source": [
    "import sys\n",
    "sys.path.append('../../scripts/')\n",
    "from keras.models import load_model\n",
    "import Preprocessing as Prep\n",
    "from my_callbacks import coef_det_k\n",
    "from keras import backend as K\n",
    "import numpy as np\n",
    "import pickle\n",
    "from  sklearn.metrics import mean_squared_error as MSE"
   ]
  },
  {
   "cell_type": "code",
   "execution_count": 2,
   "metadata": {},
   "outputs": [],
   "source": [
    "def coef_det_k_2(y_true, y_pred):\n",
    "    \"\"\"Computer coefficient of determination R^2\n",
    "    \"\"\"\n",
    "    SS_res = np.sum(np.square(y_true - y_pred))\n",
    "    SS_tot = np.sum(np.square(y_true - np.mean(y_true)))\n",
    "    return 1 - SS_res / (SS_tot + 1e-6)"
   ]
  },
  {
   "cell_type": "code",
   "execution_count": 3,
   "metadata": {},
   "outputs": [],
   "source": [
    "def test_one_model(model_file):\n",
    "    X_hot, Y_hot = Prep.make_encoding('../../data/tm_Jarzab/cleaned_enzyme_tms_jarzab_v1_test.fasta')\n",
    "    model = load_model(model_file,custom_objects={'coef_det_k':coef_det_k})\n",
    "    yp = model.predict(X_hot)\n",
    "    r2_test = coef_det_k_2(Y_hot,yp)\n",
    "    rmse = np.sqrt(MSE(Y_hot,yp))\n",
    "    print(r2_test)\n",
    "    K.clear_session()\n",
    "    del model, X_hot\n",
    "    return r2_test,rmse, Y_hot, yp"
   ]
  },
  {
   "cell_type": "code",
   "execution_count": 4,
   "metadata": {},
   "outputs": [
    {
     "name": "stdout",
     "output_type": "stream",
     "text": [
      "(4173, 2000, 20) (4173, 1)\n",
      "-4.333109358611618\n"
     ]
    }
   ],
   "source": [
    "model_file = '../../results/pre_train_on_ogt_dataset/RES1_UniDist_D2512_1e4_B128/bestmodel.h5'\n",
    "r2_test,rmse, Y_hot, yp = test_one_model(model_file)"
   ]
  },
  {
   "cell_type": "code",
   "execution_count": 5,
   "metadata": {},
   "outputs": [],
   "source": [
    "data = {'r2_score':r2_test,'rmse':rmse,'topt_predicted':yp,'true_topt':Y_hot}"
   ]
  },
  {
   "cell_type": "code",
   "execution_count": 7,
   "metadata": {},
   "outputs": [],
   "source": [
    "pickle.dump(data,open('../../results/tm_Jarzab_models/TL_RES1_fronzen_all_layers.pkl','wb'))"
   ]
  },
  {
   "cell_type": "code",
   "execution_count": 8,
   "metadata": {},
   "outputs": [],
   "source": [
    "import matplotlib.pyplot as plt"
   ]
  },
  {
   "cell_type": "code",
   "execution_count": 9,
   "metadata": {},
   "outputs": [
    {
     "data": {
      "image/png": "[encoded data removed]",
      "text/plain": [
       "<Figure size 273.6x216 with 1 Axes>"
      ]
     },
     "metadata": {
      "needs_background": "light"
     },
     "output_type": "display_data"
    }
   ],
   "source": [
    "plt.figure(figsize=(3.8,3))\n",
    "lim = [0,120]\n",
    "plt.scatter(yp,Y_hot,zorder=1)\n",
    "plt.plot(lim,lim,zorder=0)\n",
    "plt.xlim(lim)\n",
    "plt.ylim(lim)\n",
    "\n",
    "plt.xlabel('Predicted $T_{opt}$ ($^\\circ$C)')\n",
    "plt.ylabel('Experimental $T_{opt}$ ($^\\circ$C)')\n",
    "plt.tight_layout()\n",
    "plt.savefig('../../results/figures/TL_Tm_Jarzab_RES1_frozen_all_layers.pdf')\n",
    "plt.show()"
   ]
  },
  {
   "cell_type": "code",
   "execution_count": null,
   "metadata": {},
   "outputs": [],
   "source": []
  }
 ],
 "metadata": {
  "kernelspec": {
   "display_name": "deepnn",
   "language": "python",
   "name": "base"
  },
  "language_info": {
   "codemirror_mode": {
    "name": "ipython",
    "version": 3
   },
   "file_extension": ".py",
   "mimetype": "text/x-python",
   "name": "python",
   "nbconvert_exporter": "python",
   "pygments_lexer": "ipython3",
   "version": "3.6.8"
  }
 },
 "nbformat": 4,
 "nbformat_minor": 2
}
