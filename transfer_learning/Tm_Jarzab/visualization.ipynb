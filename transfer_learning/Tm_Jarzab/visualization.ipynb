{
 "cells": [
  {
   "cell_type": "code",
   "execution_count": 1,
   "metadata": {},
   "outputs": [],
   "source": [
    "import pandas as pd\n",
    "from matplotlib import pyplot as plt\n",
    "import numpy as np\n",
    "import os\n",
    "import pickle\n",
    "\n",
    "from scipy.stats import pearsonr as pr\n",
    "from scipy.stats import spearmanr as sr\n",
    "from sklearn.metrics import r2_score\n",
    "from sklearn.metrics import mean_squared_error as MSE\n",
    "\n",
    "from scipy.stats import ttest_ind"
   ]
  },
  {
   "cell_type": "code",
   "execution_count": 2,
   "metadata": {},
   "outputs": [],
   "source": [
    "r2_scores, rmses = {},{}"
   ]
  },
  {
   "cell_type": "markdown",
   "metadata": {},
   "source": [
    "#### load TL1,6,scratch scores"
   ]
  },
  {
   "cell_type": "code",
   "execution_count": 3,
   "metadata": {},
   "outputs": [],
   "source": [
    "def load_TL16scratch():\n",
    "    results = pickle.load(open('../../results/tm_Jarzab_models/TL16_scratch_results.pkl','rb'))\n",
    "    for file, item in results.items():\n",
    "        name = file.split('/')[-2]\n",
    "        if name == 'TL6_RES1_ogt_onehot_SameAnces': name = 'Type1-TL6'\n",
    "        if name == 'TL1_RES1_ogt_onehot_SameAnces': name = 'Type1-TL1'\n",
    "        if name == 'Tm_Scratch': name = 'Type1-scratch'\n",
    "        \n",
    "        r2_scores[name] = r2_scores.get(name,[]) + [item[0]]\n",
    "        rmses[name] = rmses.get(name,[]) + [item[1]]\n",
    "    print(r2_scores)\n",
    "    print(rmses)"
   ]
  },
  {
   "cell_type": "code",
   "execution_count": 4,
   "metadata": {},
   "outputs": [
    {
     "name": "stdout",
     "output_type": "stream",
     "text": [
      "{'Type1-TL6': [0.5073633433816283, 0.48453283111953815, 0.5031952445778425, 0.48592762871595996, 0.4970413078879543, 0.48986592579319044, 0.49765504695824647, 0.49539998902983573, 0.49369575332232707, 0.49277187089551333], 'Type1-TL1': [0.5663844024448922, 0.5708606544839717, 0.5767582987745026], 'Type1-scratch': [0.05602734425110567, 0.47192738006164625, 0.5103816273170791, 0.4827473936017864, 0.4666449864431802, 0.47996847622288275, 0.48012455013078026, 0.47444455781789996, 0.5047369732550041, 0.4956354342108885]}\n",
      "{'Type1-TL6': [6.754497987563353, 6.909239055488652, 6.783012020286962, 6.899884902009742, 6.8248934183300785, 6.873404154509196, 6.820728083868675, 6.836020278768403, 6.847554532973785, 6.85379924844327], 'Type1-TL1': [6.336977460920064, 6.304184020490685, 6.260715085638373], 'Type1-scratch': [9.3499528678987, 6.9932095136003065, 6.733774483481733, 6.9211945704917515, 7.028099566337366, 6.9397615763477996, 6.938720103918719, 6.976522245348491, 6.7724790192851305, 6.834425257177835]}\n"
     ]
    }
   ],
   "source": [
    "load_TL16scratch()"
   ]
  },
  {
   "cell_type": "code",
   "execution_count": 7,
   "metadata": {},
   "outputs": [
    {
     "data": {
      "text/plain": [
       "Ttest_indResult(statistic=-17.09085578300824, pvalue=2.864980073841856e-09)"
      ]
     },
     "execution_count": 7,
     "metadata": {},
     "output_type": "execute_result"
    }
   ],
   "source": [
    "ttest_ind(r2_scores['Type1-TL6'],r2_scores['Type1-TL1'])"
   ]
  },
  {
   "cell_type": "code",
   "execution_count": 5,
   "metadata": {},
   "outputs": [
    {
     "data": {
      "text/plain": [
       "[0.5663844024448922, 0.5708606544839717, 0.5767582987745026]"
      ]
     },
     "execution_count": 5,
     "metadata": {},
     "output_type": "execute_result"
    }
   ],
   "source": [
    "r2_scores['Type1-TL1']"
   ]
  },
  {
   "cell_type": "code",
   "execution_count": 6,
   "metadata": {},
   "outputs": [
    {
     "data": {
      "text/plain": [
       "[0.05602734425110567,\n",
       " 0.47192738006164625,\n",
       " 0.5103816273170791,\n",
       " 0.4827473936017864,\n",
       " 0.4666449864431802,\n",
       " 0.47996847622288275,\n",
       " 0.48012455013078026,\n",
       " 0.47444455781789996,\n",
       " 0.5047369732550041,\n",
       " 0.4956354342108885]"
      ]
     },
     "execution_count": 6,
     "metadata": {},
     "output_type": "execute_result"
    }
   ],
   "source": [
    "r2_scores['Type1-scratch']"
   ]
  },
  {
   "cell_type": "code",
   "execution_count": 11,
   "metadata": {},
   "outputs": [
    {
     "data": {
      "text/plain": [
       "0.13005301896611246"
      ]
     },
     "execution_count": 11,
     "metadata": {},
     "output_type": "execute_result"
    }
   ],
   "source": [
    "(np.max(r2_scores['Type1-TL1'])-np.max(r2_scores['Type1-scratch']))/np.max(r2_scores['Type1-scratch'])"
   ]
  },
  {
   "cell_type": "code",
   "execution_count": 9,
   "metadata": {},
   "outputs": [
    {
     "data": {
      "text/plain": [
       "Ttest_indResult(statistic=9.440061722084383, pvalue=2.6885498843480474e-06)"
      ]
     },
     "execution_count": 9,
     "metadata": {},
     "output_type": "execute_result"
    }
   ],
   "source": [
    "ttest_ind(r2_scores['Type1-TL1'],r2_scores['Type1-scratch'][1:])"
   ]
  },
  {
   "cell_type": "markdown",
   "metadata": {},
   "source": [
    "#### load classical model results"
   ]
  },
  {
   "cell_type": "markdown",
   "metadata": {},
   "source": [
    "def load_classical_models():\n",
    "    def _find_best(df):\n",
    "        ind = df.index[np.argsort(df['val_r2'])][-1]\n",
    "        return df.loc[ind,'test_r2']\n",
    "    \n",
    "    df1 = pd.read_csv('../../results/tm_Leuenberger_models/ClassicalModels/tm_iFeatures_score.csv',index_col=0)\n",
    "    df2 = pd.read_csv('../../results/tm_Leuenberger_models/ClassicalModels/tm_unirep_score.csv',index_col=0)\n",
    "    \n",
    "    tms = [float(line.split()[-1]) for line in open('../../data/tm_Leuenberger/cleaned_enzyme_tms_v1_test.fasta') if line.startswith('>')]\n",
    "    \n",
    "    r2_scores['iFeatures'] = [_find_best(df1)]\n",
    "    r2_scores['UniRep'] = [_find_best(df2)]\n",
    "    \n",
    "    rmses['iFeatures'] = [np.sqrt((1-_find_best(df1))*np.var(tms))]\n",
    "    rmses['UniRep'] = [np.sqrt((1-_find_best(df2))*np.var(tms))]\n",
    "    \n",
    "    print(r2_scores)\n",
    "    print(rmses)"
   ]
  },
  {
   "cell_type": "markdown",
   "metadata": {},
   "source": [
    "load_classical_models()"
   ]
  },
  {
   "cell_type": "markdown",
   "metadata": {},
   "source": [
    "#### Compare performance of different models"
   ]
  },
  {
   "cell_type": "code",
   "execution_count": 11,
   "metadata": {},
   "outputs": [],
   "source": [
    "data_frozen_all = pickle.load(open('../../results/tm_Jarzab_models/TL_RES1_fronzen_all_layers.pkl','rb'))"
   ]
  },
  {
   "cell_type": "code",
   "execution_count": null,
   "metadata": {},
   "outputs": [],
   "source": []
  },
  {
   "cell_type": "code",
   "execution_count": 12,
   "metadata": {},
   "outputs": [],
   "source": [
    "xticks = [\n",
    "  'iFeatures',\n",
    "  'UniRep',\n",
    "  'From Scratch',\n",
    "  'FrozenAll',\n",
    "  'FrozenCNN',\n",
    "  'TuneAll']\n",
    "\n",
    "r2s = [\n",
    "    [np.nan],\n",
    "    [np.nan],\n",
    "    r2_scores['Type1-scratch'],\n",
    "    [data_frozen_all['r2_score']],\n",
    "    r2_scores['Type1-TL6'],\n",
    "    r2_scores['Type1-TL1'],\n",
    "]\n",
    "rmses = []\n",
    "for lst in r2s:\n",
    "    new_lst = [np.sqrt((1-r2)*np.var(data_frozen_all['true_topt'])) if ~np.isnan(r2) else np.nan for r2 in lst]\n",
    "    rmses.append(new_lst)"
   ]
  },
  {
   "cell_type": "code",
   "execution_count": 13,
   "metadata": {},
   "outputs": [
    {
     "name": "stdout",
     "output_type": "stream",
     "text": [
      "[[nan], [nan], [9.349952867886604, 6.993209513591259, 6.73377448347302, 6.921194570482797, 7.028099566328273, 6.93976157633882, 6.938720103909742, 6.976522245339465, 6.772479019276369, 6.834425257168992], [22.223883878455585], [6.754497987554614, 6.909239055479713, 6.783012020278186, 6.899884902000815, 6.824893418321249, 6.873404154500303, 6.82072808385985, 6.836020278759559, 6.847554532964926, 6.853799248434403], [6.336977460911865, 6.304184020482529, 6.260715085630274]]\n"
     ]
    }
   ],
   "source": [
    "print(rmses)"
   ]
  },
  {
   "cell_type": "code",
   "execution_count": 14,
   "metadata": {},
   "outputs": [],
   "source": [
    "def do_plot(data,ylabel,outname=None,ylim=None,metric=np.mean):\n",
    "    plt.figure(figsize=(3,2.9))\n",
    "    pos = np.arange(len(data))\n",
    "    #cs = ['#fc8d59' if 'Type2' in str(tick) else '#1f78b4'for tick in xticks]\n",
    "    plt.bar(pos,[0 if np.isnan(item[0]) else metric(item) for item in data],zorder=0,color='#1b9e77')\n",
    "    for i,lst in enumerate(data):\n",
    "        if np.isnan(lst[0]): plt.text(i,ylim[0]+0.01,'NA',ha='center',va='bottom')\n",
    "        else:\n",
    "            if metric(lst)<0: plt.text(i,ylim[0]+0.01,'{:.2f}'.format(metric(lst)),ha='center',va='bottom')\n",
    "            plt.scatter(np.array([pos[i]]*len(lst))+np.random.normal(0,0.1,size=len(lst)),lst,color='k',s=6)\n",
    "        \n",
    "    plt.xticks(pos,xticks,rotation=45,ha='right')\n",
    "    #plt.xticks(pos)\n",
    "    #plt.xlabel('Types')\n",
    "    plt.ylabel(ylabel)\n",
    "    plt.xlim()\n",
    "    if ylim is not None: plt.ylim(ylim)\n",
    "    \n",
    "    plt.tight_layout()\n",
    "    if outname is not None: plt.savefig(outname,bbox_inches='tight',transparent=True)\n",
    "    plt.show()"
   ]
  },
  {
   "cell_type": "code",
   "execution_count": 16,
   "metadata": {},
   "outputs": [
    {
     "data": {
      "image/png": "[encoded data removed]",
      "text/plain": [
       "<Figure size 216x208.8 with 1 Axes>"
      ]
     },
     "metadata": {
      "needs_background": "light"
     },
     "output_type": "display_data"
    }
   ],
   "source": [
    "do_plot(r2s,'$R^2$','../../results/figures/tm__Jarzab_r2_scores_different_models.pdf',ylim=[0.,0.6],metric=np.max)"
   ]
  },
  {
   "cell_type": "code",
   "execution_count": 17,
   "metadata": {},
   "outputs": [
    {
     "data": {
      "image/png": "[encoded data removed]",
      "text/plain": [
       "<Figure size 216x208.8 with 1 Axes>"
      ]
     },
     "metadata": {
      "needs_background": "light"
     },
     "output_type": "display_data"
    }
   ],
   "source": [
    "do_plot(rmses,'RMSE ($^\\circ$C)','../../results/figures/tm_Jarzab_rmse_different_models.pdf',ylim=[0,25],metric=np.min)"
   ]
  },
  {
   "cell_type": "markdown",
   "metadata": {},
   "source": [
    "#### Plot best model"
   ]
  },
  {
   "cell_type": "code",
   "execution_count": 12,
   "metadata": {},
   "outputs": [],
   "source": [
    "data = pickle.load(open('../../results/tm_Jarzab_models/TL16_scratch_results.pkl','rb'))\n",
    "# (r2_score, rmse, ytrue,yp)"
   ]
  },
  {
   "cell_type": "code",
   "execution_count": 13,
   "metadata": {},
   "outputs": [
    {
     "name": "stdout",
     "output_type": "stream",
     "text": [
      "../../results/tm_Jarzab_models/TL1_RES1_ogt_onehot_SameAnces/bestmodel2.h5 0.5767582987745026\n"
     ]
    }
   ],
   "source": [
    "best_r2 = -np.inf\n",
    "for name,item in data.items():\n",
    "    if 'RES1' not in name: continue\n",
    "    if item[0]>best_r2: \n",
    "        best_r2 = item[0]\n",
    "        best_yp = item[3]\n",
    "        best_name = name\n",
    "        ytrue = item[2]\n",
    "print(best_name,best_r2)"
   ]
  },
  {
   "cell_type": "code",
   "execution_count": 88,
   "metadata": {},
   "outputs": [
    {
     "name": "stdout",
     "output_type": "stream",
     "text": [
      "4173\n",
      "pr: (array([0.76057643]), array([0.]))\n",
      "sr: SpearmanrResult(correlation=0.5482047414079826, pvalue=0.0)\n",
      "r2: 0.5767582987734075\n",
      "rmse: 6.260715085638373\n"
     ]
    },
    {
     "data": {
      "image/png": "[encoded data removed]",
      "text/plain": [
       "<Figure size 216x180 with 1 Axes>"
      ]
     },
     "metadata": {
      "needs_background": "light"
     },
     "output_type": "display_data"
    }
   ],
   "source": [
    "plt.figure(figsize=(3.,2.5))\n",
    "\n",
    "y = data_frozen_all['true_topt']\n",
    "x = best_yp\n",
    "print(len(y))\n",
    "print('pr:',pr(y,x))\n",
    "print('sr:',sr(y,x))\n",
    "print('r2:',r2_score(y,x))\n",
    "print('rmse:',np.sqrt(MSE(y,x)))\n",
    "\n",
    "lim = [20,110]\n",
    "plt.scatter(best_yp,ytrue,zorder=1,s=20,edgecolor='#1b9e77',facecolor='none')\n",
    "plt.plot(lim,lim,zorder=0,c='gray')\n",
    "\n",
    "plt.xticks(np.arange(20,140,15))\n",
    "plt.yticks(np.arange(20,140,15))\n",
    "\n",
    "plt.xlim(lim)\n",
    "plt.ylim(lim)\n",
    "\n",
    "plt.xlabel('Predicted $T_{m}$ ($^\\circ$C)')\n",
    "plt.ylabel('Experimental $T_{m}$ ($^\\circ$C)')\n",
    "plt.tight_layout()\n",
    "plt.savefig('../../results/figures/best_tm_jarzab_tl_model_TL1_RES1_bestmodel2.pdf',transparent=True)\n",
    "plt.show()"
   ]
  },
  {
   "cell_type": "code",
   "execution_count": 66,
   "metadata": {},
   "outputs": [
    {
     "data": {
      "text/plain": [
       "array([ 20,  35,  50,  65,  80,  95, 110, 125])"
      ]
     },
     "execution_count": 66,
     "metadata": {},
     "output_type": "execute_result"
    }
   ],
   "source": [
    "np.arange(20,140,15)"
   ]
  },
  {
   "cell_type": "code",
   "execution_count": 52,
   "metadata": {},
   "outputs": [],
   "source": [
    "def plot_ogt(fasta,outname=None):\n",
    "    tms = [float(line.strip().split()[-1]) for line in open(fasta) if line.startswith('>')]\n",
    "    print('Number of seqs:',len(tms))\n",
    "    plt.figure(figsize=(3,2.5))\n",
    "    plt.hist(tms,50,color='#1b9e77')\n",
    "    plt.xlabel('$T_m$ ($^\\circ$C)')\n",
    "    plt.ylabel('Count')\n",
    "    #plt.ticklabel_format(axis=\"y\", style=\"sci\", scilimits=(0,0))\n",
    "    #plt.tight_layout()\n",
    "    if outname is not None: plt.savefig(outname,bbox_inches='tight')\n",
    "    plt.show()"
   ]
  },
  {
   "cell_type": "code",
   "execution_count": 53,
   "metadata": {},
   "outputs": [
    {
     "name": "stdout",
     "output_type": "stream",
     "text": [
      "Number of seqs: 41725\n"
     ]
    },
    {
     "data": {
      "image/png": "[encoded data removed]",
      "text/plain": [
       "<Figure size 216x180 with 1 Axes>"
      ]
     },
     "metadata": {
      "needs_background": "light"
     },
     "output_type": "display_data"
    }
   ],
   "source": [
    "plot_ogt('../../data/tm_Jarzab/cleaned_enzyme_tms_jarzab_v1.fasta',\n",
    "         outname='../../results/figures/tm_Jarzab_distribution.png')"
   ]
  },
  {
   "cell_type": "code",
   "execution_count": null,
   "metadata": {},
   "outputs": [],
   "source": []
  }
 ],
 "metadata": {
  "kernelspec": {
   "display_name": "Python 3",
   "language": "python",
   "name": "python3"
  },
  "language_info": {
   "codemirror_mode": {
    "name": "ipython",
    "version": 3
   },
   "file_extension": ".py",
   "mimetype": "text/x-python",
   "name": "python",
   "nbconvert_exporter": "python",
   "pygments_lexer": "ipython3",
   "version": "3.6.7"
  }
 },
 "nbformat": 4,
 "nbformat_minor": 2
}
