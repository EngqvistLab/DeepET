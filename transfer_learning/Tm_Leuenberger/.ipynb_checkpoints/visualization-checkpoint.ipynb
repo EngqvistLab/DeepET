{
 "cells": [
  {
   "cell_type": "code",
   "execution_count": 1,
   "metadata": {},
   "outputs": [],
   "source": [
    "import pandas as pd\n",
    "from matplotlib import pyplot as plt\n",
    "import numpy as np\n",
    "import os\n",
    "import pickle\n",
    "\n",
    "from scipy.stats import pearsonr as pr\n",
    "from scipy.stats import spearmanr as sr\n",
    "from sklearn.metrics import r2_score\n",
    "from sklearn.metrics import mean_squared_error as MSE"
   ]
  },
  {
   "cell_type": "code",
   "execution_count": 2,
   "metadata": {},
   "outputs": [],
   "source": [
    "r2_scores, rmses = {},{}"
   ]
  },
  {
   "cell_type": "markdown",
   "metadata": {},
   "source": [
    "#### load TL1,6,scratch scores"
   ]
  },
  {
   "cell_type": "code",
   "execution_count": 3,
   "metadata": {},
   "outputs": [],
   "source": [
    "def load_TL16scratch():\n",
    "    results = pickle.load(open('../../results/tm_Leuenberger_models/TL16_scratch_results.pkl','rb'))\n",
    "    for file, item in results.items():\n",
    "        name = file.split('/')[-2]\n",
    "        if name == 'TL6_RES1_ogt_onehot_SameAnces': name = 'Type1-TL6'\n",
    "        if name == 'TL1_RES1_ogt_onehot_SameAnces': name = 'Type1-TL1'\n",
    "        if name == 'Tm_Scratch': name = 'Type1-scratch'\n",
    "        \n",
    "        r2_scores[name] = r2_scores.get(name,[]) + [item[0]]\n",
    "        rmses[name] = rmses.get(name,[]) + [item[1]]\n",
    "    print(r2_scores)\n",
    "    print(rmses)"
   ]
  },
  {
   "cell_type": "code",
   "execution_count": 4,
   "metadata": {},
   "outputs": [
    {
     "name": "stdout",
     "output_type": "stream",
     "text": [
      "{'Type1-TL6': [0.6808550880557533, 0.6966265382068308, 0.699582350331232, 0.6738647600352949, 0.6938993596800901, 0.6761724044739889, 0.6794441166876839, 0.6826197012375901, 0.6882431209535329, 0.6758912918289117], 'Type1-TL1': [0.7274654961121212, 0.7164754038590587, 0.7228409908388129], 'Type1-scratch': [0.6040642408311822, 0.6273882430844449, 0.6326776824625195, 0.5914725617700047, 0.5563113264393387, 0.6018912314353472, 0.5902487167688582, 0.5984863969597547, 0.5634492171880188, 0.5450581776832196]}\n",
      "{'Type1-TL6': [8.706322309738178, 8.48847300723439, 8.447019569731136, 8.80115445028248, 8.526541248055194, 8.769961884753577, 8.725546842803741, 8.682219486703042, 8.604958910626085, 8.773767632643526], 'Type1-TL1': [8.045471949373988, 8.206087596250445, 8.113444661056294], 'Type1-scratch': [9.697351590955554, 9.407387973250385, 9.34037765429868, 9.850343913290608, 10.26549626744281, 9.723926106904264, 9.865087450535746, 9.765419628979119, 10.182587810782886, 10.394861560730035]}\n"
     ]
    }
   ],
   "source": [
    "load_TL16scratch()"
   ]
  },
  {
   "cell_type": "markdown",
   "metadata": {},
   "source": [
    "#### load classical model results"
   ]
  },
  {
   "cell_type": "code",
   "execution_count": 7,
   "metadata": {},
   "outputs": [],
   "source": [
    "def load_classical_models():\n",
    "    def _find_best(df):\n",
    "        ind = df.index[np.argsort(df['val_r2'])][-1]\n",
    "        return df.loc[ind,'test_r2']\n",
    "    \n",
    "    df1 = pd.read_csv('../../results/tm_Leuenberger_models/ClassicalModels/tm_iFeatures_score.csv',index_col=0)\n",
    "    df2 = pd.read_csv('../../results/tm_Leuenberger_models/ClassicalModels/tm_unirep_score.csv',index_col=0)\n",
    "    \n",
    "    tms = [float(line.split()[-1]) for line in open('../../data/tm_Leuenberger/cleaned_enzyme_tms_v1_test.fasta') if line.startswith('>')]\n",
    "    \n",
    "    r2_scores['iFeatures'] = df1.sort_values('test_r2')['test_r2'].values[-3:]#[_find_best(df1)]\n",
    "    r2_scores['UniRep'] = df2.sort_values('test_r2')['test_r2'].values[-3:]#[_find_best(df2)]\n",
    "    \n",
    "    rmses['iFeatures'] = [np.sqrt((1-r2)*np.var(tms)) for r2 in r2_scores['iFeatures']]\n",
    "    rmses['UniRep'] = [np.sqrt((1-r2)*np.var(tms)) for r2 in r2_scores['UniRep']]\n",
    "    \n",
    "    print(r2_scores)\n",
    "    print(rmses)"
   ]
  },
  {
   "cell_type": "code",
   "execution_count": 8,
   "metadata": {},
   "outputs": [
    {
     "name": "stdout",
     "output_type": "stream",
     "text": [
      "{'Type1-TL6': [0.6808550880557533, 0.6966265382068308, 0.699582350331232, 0.6738647600352949, 0.6938993596800901, 0.6761724044739889, 0.6794441166876839, 0.6826197012375901, 0.6882431209535329, 0.6758912918289117], 'Type1-TL1': [0.7274654961121212, 0.7164754038590587, 0.7228409908388129], 'Type1-scratch': [0.6040642408311822, 0.6273882430844449, 0.6326776824625195, 0.5914725617700047, 0.5563113264393387, 0.6018912314353472, 0.5902487167688582, 0.5984863969597547, 0.5634492171880188, 0.5450581776832196], 'iFeatures': array([0.63481516, 0.65473239, 0.68054561]), 'UniRep': array([0.51444592, 0.52990917, 0.62691752])}\n",
      "{'Type1-TL6': [8.706322309738178, 8.48847300723439, 8.447019569731136, 8.80115445028248, 8.526541248055194, 8.769961884753577, 8.725546842803741, 8.682219486703042, 8.604958910626085, 8.773767632643526], 'Type1-TL1': [8.045471949373988, 8.206087596250445, 8.113444661056294], 'Type1-scratch': [9.697351590955554, 9.407387973250385, 9.34037765429868, 9.850343913290608, 10.26549626744281, 9.723926106904264, 9.865087450535746, 9.765419628979119, 10.182587810782886, 10.394861560730035], 'iFeatures': [9.31316174502539, 9.05563055088608, 8.710542649738828], 'UniRep': [10.738894695159983, 10.56651247159812, 9.413328339745352]}\n"
     ]
    }
   ],
   "source": [
    "load_classical_models()"
   ]
  },
  {
   "cell_type": "markdown",
   "metadata": {},
   "source": [
    "#### Compare performance of different models"
   ]
  },
  {
   "cell_type": "code",
   "execution_count": 9,
   "metadata": {},
   "outputs": [],
   "source": [
    "data_frozen_all = pickle.load(open('../../results/tm_Leuenberger_models/TL_RES1_fronzen_all_layers.pkl','rb'))"
   ]
  },
  {
   "cell_type": "code",
   "execution_count": null,
   "metadata": {},
   "outputs": [],
   "source": []
  },
  {
   "cell_type": "code",
   "execution_count": 10,
   "metadata": {},
   "outputs": [],
   "source": [
    "xticks = [\n",
    "  'iFeatures',\n",
    "  'UniRep',\n",
    "  'From Scratch',\n",
    "  'FrozenAll',\n",
    "  'FrozenCNN',\n",
    "  'TuneAll']\n",
    "\n",
    "r2s = [\n",
    "    r2_scores['iFeatures'],\n",
    "    r2_scores['UniRep'],\n",
    "    r2_scores['Type1-scratch'],\n",
    "    [data_frozen_all['r2_score']],\n",
    "    r2_scores['Type1-TL6'],\n",
    "    r2_scores['Type1-TL1'],\n",
    "]\n",
    "rmses = []\n",
    "for lst in r2s:\n",
    "    new_lst = [np.sqrt((1-r2)*np.var(data_frozen_all['true_topt'])) for r2 in lst]\n",
    "    rmses.append(new_lst)"
   ]
  },
  {
   "cell_type": "code",
   "execution_count": 11,
   "metadata": {},
   "outputs": [
    {
     "name": "stdout",
     "output_type": "stream",
     "text": [
      "[[9.31316174502539, 9.05563055088608, 8.710542649738828], [10.738894695159983, 10.56651247159812, 9.413328339745352], [9.69735159087422, 9.407387973171483, 9.34037765422034, 9.850343913207992, 10.265496267356712, 9.723926106822708, 9.865087450453006, 9.765419628897215, 10.182587810697482, 10.394861560642852], [22.47249161071099], [8.706322309665156, 8.488473007163197, 8.44701956966029, 8.801154450208664, 8.52654124798368, 8.769961884680022, 8.725546842730557, 8.682219486630224, 8.604958910553913, 8.773767632569939], [8.04547194930651, 8.20608759618162, 8.113444660988245]]\n"
     ]
    }
   ],
   "source": [
    "print(rmses)"
   ]
  },
  {
   "cell_type": "code",
   "execution_count": 12,
   "metadata": {},
   "outputs": [],
   "source": [
    "def do_plot(data,ylabel,outname=None,ylim=None):\n",
    "    plt.figure(figsize=(3,2.9))\n",
    "    pos = np.arange(len(data))\n",
    "    #cs = ['#fc8d59' if 'Type2' in str(tick) else '#1f78b4'for tick in xticks]\n",
    "    plt.bar(pos,[np.mean(item) for item in data],zorder=0,color='#1b9e77')\n",
    "    for i,lst in enumerate(data):\n",
    "        plt.scatter(np.array([pos[i]]*len(lst))+np.random.normal(0,0.1,size=len(lst)),lst,color='k',s=6)\n",
    "        if np.mean(lst)<0: plt.text(i,ylim[0]+0.01,'{:.2f}'.format(np.mean(lst)),ha='center',va='bottom')\n",
    "    plt.xticks(pos,xticks,rotation=45,ha='right')\n",
    "    #plt.xticks(pos)\n",
    "    #plt.xlabel('Types')\n",
    "    plt.ylabel(ylabel)\n",
    "    if ylim is not None: plt.ylim(ylim)\n",
    "    plt.tight_layout()\n",
    "    if outname is not None: plt.savefig(outname,bbox_inches='tight',transparent=True)\n",
    "    plt.show()"
   ]
  },
  {
   "cell_type": "code",
   "execution_count": 13,
   "metadata": {},
   "outputs": [
    {
     "data": {
      "image/png": "[encoded data removed]",
      "text/plain": [
       "<Figure size 216x208.8 with 1 Axes>"
      ]
     },
     "metadata": {
      "needs_background": "light"
     },
     "output_type": "display_data"
    }
   ],
   "source": [
    "do_plot(r2s,'$R^2$','../../results/figures/tm_Leuenberger_r2_scores_different_models.pdf',ylim=[0.5,0.75])"
   ]
  },
  {
   "cell_type": "code",
   "execution_count": 14,
   "metadata": {},
   "outputs": [
    {
     "data": {
      "image/png": "[encoded data removed]",
      "text/plain": [
       "<Figure size 216x208.8 with 1 Axes>"
      ]
     },
     "metadata": {
      "needs_background": "light"
     },
     "output_type": "display_data"
    }
   ],
   "source": [
    "do_plot(rmses,'RMSE ($^\\circ$C)','../../results/figures/tm_Leuenberger_rmse_different_models.pdf')"
   ]
  },
  {
   "cell_type": "markdown",
   "metadata": {},
   "source": [
    "#### Plot best model"
   ]
  },
  {
   "cell_type": "code",
   "execution_count": 20,
   "metadata": {},
   "outputs": [],
   "source": [
    "data = pickle.load(open('../../results/tm_Leuenberger_models/TL16_scratch_results.pkl','rb'))\n",
    "# (r2_score, rmse, ytrue,yp)"
   ]
  },
  {
   "cell_type": "code",
   "execution_count": 21,
   "metadata": {},
   "outputs": [
    {
     "name": "stdout",
     "output_type": "stream",
     "text": [
      "../../results/tm_Leuenberger_models/TL1_RES1_ogt_onehot_SameAnces/bestmodel3.h5 0.7274654961121212\n"
     ]
    }
   ],
   "source": [
    "best_r2 = -np.inf\n",
    "for name,item in data.items():\n",
    "    if 'RES1' not in name: continue\n",
    "    if item[0]>best_r2: \n",
    "        best_r2 = item[0]\n",
    "        best_yp = item[3]\n",
    "        best_name = name\n",
    "        ytrue = item[2]\n",
    "print(best_name,best_r2)"
   ]
  },
  {
   "cell_type": "code",
   "execution_count": 48,
   "metadata": {},
   "outputs": [
    {
     "name": "stdout",
     "output_type": "stream",
     "text": [
      "251\n",
      "pr: (array([0.85544516]), array([4.13460451e-73]))\n",
      "sr: SpearmanrResult(correlation=0.7372453044963004, pvalue=2.698356280510122e-44)\n",
      "r2: 0.7274654961075496\n",
      "rmse: 8.045471949373988\n"
     ]
    },
    {
     "data": {
      "image/png": "[encoded data removed]",
      "text/plain": [
       "<Figure size 216x180 with 1 Axes>"
      ]
     },
     "metadata": {
      "needs_background": "light"
     },
     "output_type": "display_data"
    }
   ],
   "source": [
    "plt.figure(figsize=(3.,2.5))\n",
    "y = data_frozen_all['true_topt']\n",
    "x = best_yp\n",
    "print(len(y))\n",
    "print('pr:',pr(y,x))\n",
    "print('sr:',sr(y,x))\n",
    "print('r2:',r2_score(y,x))\n",
    "print('rmse:',np.sqrt(MSE(y,x)))\n",
    "\n",
    "lim = [30,100]\n",
    "plt.scatter(best_yp,ytrue,zorder=1,s=20,edgecolor='#1b9e77',facecolor='none')\n",
    "plt.plot(lim,lim,zorder=0,c='gray')\n",
    "\n",
    "plt.xticks(np.arange(30,110,10))\n",
    "plt.yticks(np.arange(30,110,10))\n",
    "\n",
    "plt.xlim(lim)\n",
    "plt.ylim(lim)\n",
    "\n",
    "plt.xlabel('Predicted $T_{m}$ ($^\\circ$C)')\n",
    "plt.ylabel('Experimental $T_{m}$ ($^\\circ$C)')\n",
    "plt.tight_layout()\n",
    "plt.savefig('../../results/figures/best_tm_leu_tl_model_TL1_RES1_bestmodel3.pdf',transparent=True)\n",
    "plt.show()"
   ]
  },
  {
   "cell_type": "code",
   "execution_count": 27,
   "metadata": {},
   "outputs": [
    {
     "data": {
      "text/plain": [
       "array([ 30,  40,  50,  60,  70,  80,  90, 100])"
      ]
     },
     "execution_count": 27,
     "metadata": {},
     "output_type": "execute_result"
    }
   ],
   "source": [
    "np.arange(30,110,10)"
   ]
  },
  {
   "cell_type": "code",
   "execution_count": 1,
   "metadata": {},
   "outputs": [],
   "source": [
    "def plot_ogt(fasta,outname=None):\n",
    "    tms = [float(line.strip().split()[-1]) for line in open(fasta) if line.startswith('>')]\n",
    "    print('Number of seqs:',len(tms))\n",
    "    plt.figure(figsize=(3,2.5))\n",
    "    plt.hist(tms,50,color='#1b9e77')\n",
    "    plt.xlabel('$T_m$ ($^\\circ$C)')\n",
    "    plt.ylabel('Count')\n",
    "    #plt.ticklabel_format(axis=\"y\", style=\"sci\", scilimits=(0,0))\n",
    "    #plt.tight_layout()\n",
    "    if outname is not None: plt.savefig(outname,bbox_inches='tight')\n",
    "    plt.show()"
   ]
  },
  {
   "cell_type": "code",
   "execution_count": 4,
   "metadata": {},
   "outputs": [
    {
     "name": "stdout",
     "output_type": "stream",
     "text": [
      "Number of seqs: 2506\n"
     ]
    },
    {
     "data": {
      "image/png": "[encoded data removed]",
      "text/plain": [
       "<Figure size 216x180 with 1 Axes>"
      ]
     },
     "metadata": {
      "needs_background": "light"
     },
     "output_type": "display_data"
    }
   ],
   "source": [
    "plot_ogt('../../data/tm_Leuenberger/cleaned_enzyme_tms_v1.fasta',\n",
    "         outname='../../results/figures/tm_Leuenberger_distribution.png')"
   ]
  },
  {
   "cell_type": "code",
   "execution_count": null,
   "metadata": {},
   "outputs": [],
   "source": []
  }
 ],
 "metadata": {
  "kernelspec": {
   "display_name": "Python 3",
   "language": "python",
   "name": "python3"
  },
  "language_info": {
   "codemirror_mode": {
    "name": "ipython",
    "version": 3
   },
   "file_extension": ".py",
   "mimetype": "text/x-python",
   "name": "python",
   "nbconvert_exporter": "python",
   "pygments_lexer": "ipython3",
   "version": "3.6.7"
  }
 },
 "nbformat": 4,
 "nbformat_minor": 2
}
