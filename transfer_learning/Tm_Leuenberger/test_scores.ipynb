{
 "cells": [
  {
   "cell_type": "code",
   "execution_count": 1,
   "metadata": {},
   "outputs": [
    {
     "name": "stderr",
     "output_type": "stream",
     "text": [
      "Using TensorFlow backend.\n"
     ]
    }
   ],
   "source": [
    "import sys\n",
    "sys.path.append('../../scripts/')\n",
    "from keras.models import load_model\n",
    "import Preprocessing as Prep\n",
    "from my_callbacks import coef_det_k\n",
    "from keras import backend as K\n",
    "import numpy as np\n",
    "import pickle\n",
    "from  sklearn.metrics import mean_squared_error as MSE\n",
    "import os"
   ]
  },
  {
   "cell_type": "code",
   "execution_count": 2,
   "metadata": {},
   "outputs": [],
   "source": [
    "def coef_det_k_2(y_true, y_pred):\n",
    "    \"\"\"Computer coefficient of determination R^2\n",
    "    \"\"\"\n",
    "    SS_res = np.sum(np.square(y_true - y_pred))\n",
    "    SS_tot = np.sum(np.square(y_true - np.mean(y_true)))\n",
    "    return 1 - SS_res / (SS_tot + 1e-6)"
   ]
  },
  {
   "cell_type": "code",
   "execution_count": 3,
   "metadata": {},
   "outputs": [],
   "source": [
    "def test_one_model(model_file):\n",
    "    X_hot, Y_hot = Prep.make_encoding('../../data/tm_Leuenberger/cleaned_enzyme_tms_v1_test.fasta')\n",
    "    model = load_model(model_file,custom_objects={'coef_det_k':coef_det_k})\n",
    "    yp = model.predict(X_hot)\n",
    "    r2_test = coef_det_k_2(Y_hot,yp)\n",
    "    rmse = np.sqrt(MSE(Y_hot,yp))\n",
    "    print(r2_test)\n",
    "    K.clear_session()\n",
    "    del model, X_hot\n",
    "    return r2_test,rmse, Y_hot, yp"
   ]
  },
  {
   "cell_type": "code",
   "execution_count": 4,
   "metadata": {},
   "outputs": [
    {
     "name": "stdout",
     "output_type": "stream",
     "text": [
      "../../results/tm_Leuenberger_models/TL6_RES1_ogt_onehot_SameAnces/bestmodel9.h5\n",
      "(251, 2000, 20) (251, 1)\n",
      "0.6808550880557533\n",
      "../../results/tm_Leuenberger_models/TL6_RES1_ogt_onehot_SameAnces/bestmodel6.h5\n",
      "(251, 2000, 20) (251, 1)\n",
      "0.6966265382068308\n",
      "../../results/tm_Leuenberger_models/TL6_RES1_ogt_onehot_SameAnces/bestmodel10.h5\n",
      "(251, 2000, 20) (251, 1)\n",
      "0.699582350331232\n",
      "../../results/tm_Leuenberger_models/TL6_RES1_ogt_onehot_SameAnces/bestmodel3.h5\n",
      "(251, 2000, 20) (251, 1)\n",
      "0.6738647600352949\n",
      "../../results/tm_Leuenberger_models/TL6_RES1_ogt_onehot_SameAnces/bestmodel7.h5\n",
      "(251, 2000, 20) (251, 1)\n",
      "0.6938993596800901\n",
      "../../results/tm_Leuenberger_models/TL6_RES1_ogt_onehot_SameAnces/bestmodel8.h5\n",
      "(251, 2000, 20) (251, 1)\n",
      "0.6761724044739889\n",
      "../../results/tm_Leuenberger_models/TL6_RES1_ogt_onehot_SameAnces/bestmodel4.h5\n",
      "(251, 2000, 20) (251, 1)\n",
      "0.6794441166876839\n",
      "../../results/tm_Leuenberger_models/TL6_RES1_ogt_onehot_SameAnces/bestmodel1.h5\n",
      "(251, 2000, 20) (251, 1)\n",
      "0.6826197012375901\n",
      "../../results/tm_Leuenberger_models/TL6_RES1_ogt_onehot_SameAnces/bestmodel5.h5\n",
      "(251, 2000, 20) (251, 1)\n",
      "0.6882431209535329\n",
      "../../results/tm_Leuenberger_models/TL6_RES1_ogt_onehot_SameAnces/bestmodel2.h5\n",
      "(251, 2000, 20) (251, 1)\n",
      "0.6758912918289117\n",
      "../../results/tm_Leuenberger_models/TL1_RES1_ogt_onehot_SameAnces/bestmodel3.h5\n",
      "(251, 2000, 20) (251, 1)\n",
      "0.7274654961121212\n",
      "../../results/tm_Leuenberger_models/TL1_RES1_ogt_onehot_SameAnces/bestmodel1.h5\n",
      "(251, 2000, 20) (251, 1)\n",
      "0.7164754038590587\n",
      "../../results/tm_Leuenberger_models/TL1_RES1_ogt_onehot_SameAnces/bestmodel2.h5\n",
      "(251, 2000, 20) (251, 1)\n",
      "0.7228409908388129\n",
      "../../results/tm_Leuenberger_models/Tm_Scratch/bestmodel9.h5\n",
      "(251, 2000, 20) (251, 1)\n",
      "0.6040642408311822\n",
      "../../results/tm_Leuenberger_models/Tm_Scratch/bestmodel6.h5\n",
      "(251, 2000, 20) (251, 1)\n",
      "0.6273882430844449\n",
      "../../results/tm_Leuenberger_models/Tm_Scratch/bestmodel10.h5\n",
      "(251, 2000, 20) (251, 1)\n",
      "0.6326776824625195\n",
      "../../results/tm_Leuenberger_models/Tm_Scratch/bestmodel3.h5\n",
      "(251, 2000, 20) (251, 1)\n",
      "0.5914725617700047\n",
      "../../results/tm_Leuenberger_models/Tm_Scratch/bestmodel7.h5\n",
      "(251, 2000, 20) (251, 1)\n",
      "0.5563113264393387\n",
      "../../results/tm_Leuenberger_models/Tm_Scratch/bestmodel8.h5\n",
      "(251, 2000, 20) (251, 1)\n",
      "0.6018912314353472\n",
      "../../results/tm_Leuenberger_models/Tm_Scratch/bestmodel4.h5\n",
      "(251, 2000, 20) (251, 1)\n",
      "0.5902487167688582\n",
      "../../results/tm_Leuenberger_models/Tm_Scratch/bestmodel1.h5\n",
      "(251, 2000, 20) (251, 1)\n",
      "0.5984863969597547\n",
      "../../results/tm_Leuenberger_models/Tm_Scratch/bestmodel5.h5\n",
      "(251, 2000, 20) (251, 1)\n",
      "0.5634492171880188\n",
      "../../results/tm_Leuenberger_models/Tm_Scratch/bestmodel2.h5\n",
      "(251, 2000, 20) (251, 1)\n",
      "0.5450581776832196\n"
     ]
    }
   ],
   "source": [
    "resuls = dict()\n",
    "indir = '../../results/tm_Leuenberger_models/'\n",
    "for name in os.listdir(indir):\n",
    "    if 'TL1' in name or 'TL6' in name or 'Tm_' in name:\n",
    "        for file in os.listdir(os.path.join(indir,name)):\n",
    "            if not file.endswith('.h5'): continue\n",
    "            model_file = os.path.join(indir,name,file)\n",
    "            print(model_file)\n",
    "            resuls[model_file] = test_one_model(model_file)"
   ]
  },
  {
   "cell_type": "code",
   "execution_count": 6,
   "metadata": {},
   "outputs": [],
   "source": [
    "pickle.dump(resuls,open('../../results/tm_Leuenberger_models/TL16_scratch_results.pkl','wb'))"
   ]
  },
  {
   "cell_type": "code",
   "execution_count": null,
   "metadata": {},
   "outputs": [],
   "source": []
  }
 ],
 "metadata": {
  "kernelspec": {
   "display_name": "deepnn",
   "language": "python",
   "name": "base"
  },
  "language_info": {
   "codemirror_mode": {
    "name": "ipython",
    "version": 3
   },
   "file_extension": ".py",
   "mimetype": "text/x-python",
   "name": "python",
   "nbconvert_exporter": "python",
   "pygments_lexer": "ipython3",
   "version": "3.6.8"
  }
 },
 "nbformat": 4,
 "nbformat_minor": 2
}
