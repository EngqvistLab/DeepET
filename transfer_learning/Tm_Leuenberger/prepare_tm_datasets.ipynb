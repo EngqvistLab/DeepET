{
 "cells": [
  {
   "cell_type": "code",
   "execution_count": 1,
   "metadata": {},
   "outputs": [],
   "source": [
    "import xlrd\n",
    "from Bio import SeqIO\n",
    "from Bio.Seq import Seq\n",
    "from Bio.SeqRecord import SeqRecord\n",
    "from Bio.Alphabet import IUPAC\n",
    "import numpy as np\n",
    "import pandas as pd\n",
    "import os"
   ]
  },
  {
   "cell_type": "markdown",
   "metadata": {},
   "source": [
    "!wget https://science.sciencemag.org/highwire/filestream/690833/field_highwire_adjunct_files/2/aai7825_Leuenberger_Table-S3.xlsx \n",
    "!mv aai7825_Leuenberger_Table-S3.xlsx ../data/"
   ]
  },
  {
   "cell_type": "markdown",
   "metadata": {},
   "source": [
    "### Load data"
   ]
  },
  {
   "cell_type": "code",
   "execution_count": 3,
   "metadata": {},
   "outputs": [],
   "source": [
    "wb = xlrd.open_workbook('../data/aai7825_Leuenberger_Table-S3.xlsx')"
   ]
  },
  {
   "cell_type": "code",
   "execution_count": 4,
   "metadata": {},
   "outputs": [
    {
     "name": "stdout",
     "output_type": "stream",
     "text": [
      "2517\n"
     ]
    }
   ],
   "source": [
    "seqs, tms, orgs = {},{},{}\n",
    "for name in ['E. coli','T. thermophilus','S. cerevisiae']:\n",
    "    sh = wb.sheet_by_name(name)\n",
    "    for i in range(sh.ncols): \n",
    "        if sh.cell(0,i).value == 'Tm Protein': tm_col = i\n",
    "        if sh.cell(0,i).value == 'Sequence': seq_col = i\n",
    "        if sh.cell(0,i).value == 'Protein_ID': id_col = i\n",
    "    \n",
    "    for j in range(sh.nrows-1):\n",
    "        j += 1\n",
    "        prot_id = sh.cell(j,id_col).value.split(';')[0]\n",
    "        seqs[prot_id] = sh.cell(j,seq_col).value\n",
    "        tms[prot_id] = sh.cell(j,tm_col).value\n",
    "        orgs[prot_id] = name.replace(' ','')\n",
    "print(len(seqs))"
   ]
  },
  {
   "cell_type": "markdown",
   "metadata": {},
   "source": [
    "### Clean data"
   ]
  },
  {
   "cell_type": "code",
   "execution_count": 5,
   "metadata": {},
   "outputs": [],
   "source": [
    "def is_valid_seq(seq, max_len=2000,min_len=31):\n",
    "    \"\"\"\n",
    "    True if seq is valid, False otherwise.\n",
    "    \"\"\"\n",
    "    l = len(seq)\n",
    "    valid_aas = \"ACDEFGHIKLMNPQRSTVWY\"\n",
    "    if (l <= max_len) and set(seq) <= set(valid_aas) and l>=min_len: return True\n",
    "    else: return False"
   ]
  },
  {
   "cell_type": "code",
   "execution_count": 6,
   "metadata": {},
   "outputs": [
    {
     "name": "stdout",
     "output_type": "stream",
     "text": [
      "2506\n"
     ]
    }
   ],
   "source": [
    "valid_seqs = []\n",
    "for seq_id in seqs.keys():\n",
    "    if is_valid_seq(seqs[seq_id]): valid_seqs.append(seq_id)\n",
    "print(len(valid_seqs))"
   ]
  },
  {
   "cell_type": "markdown",
   "metadata": {},
   "source": [
    "### Save to fasta"
   ]
  },
  {
   "cell_type": "code",
   "execution_count": 8,
   "metadata": {},
   "outputs": [],
   "source": [
    "fhand = open('../data/cleaned_enzyme_tms_v1.fasta','w')\n",
    "all_recs = list()\n",
    "for seq_id in valid_seqs:\n",
    "    record = SeqRecord(Seq(seqs[seq_id],IUPAC.protein),id=seq_id, name=\"\",\n",
    "                       description=\"{0} {1}\".format(orgs[seq_id],tms[seq_id]))\n",
    "    all_recs.append(record)\n",
    "SeqIO.write(all_recs,fhand,'fasta')\n",
    "fhand.close()"
   ]
  },
  {
   "cell_type": "code",
   "execution_count": 9,
   "metadata": {},
   "outputs": [
    {
     "name": "stdout",
     "output_type": "stream",
     "text": [
      ">P00350 E.coli 57.82613507\r\n",
      "MSKQQIGVVGMAVMGRNLALNIESRGYTVSIFNRSREKTEEVIAENPGKKLVPYYTVKEF\r\n",
      "VESLETPRRILLMVKAGAGTDAAIDSLKPYLDKGDIIIDGGNTFFQDTIRRNRELSAEGF\r\n",
      "NFIGTGVSGGEEGALKGPSIMPGGQKEAYELVAPILTKIAAVAEDGEPCVTYIGADGAGH\r\n",
      "YVKMVHNGIEYGDMQLIAEAYSLLKGGLNLTNEELAQTFTEWNNGELSSYLIDITKDIFT\r\n",
      "KKDEDGNYLVDVILDEAANKGTGKWTSQSALDLGEPLSLITESVFARYISSLKDQRVAAS\r\n",
      "KVLSGPQAQPAGDKAEFIEKVRRALYLGKIVSYAQGFSQLRAASEEYNWDLNYGEIAKIF\r\n",
      "RAGCIIRAQFLQKITDAYAENPQIANLLLAPYFKQIADDYQQALRDVVAYAVQNGIPVPT\r\n",
      "FSAAVAYYDSYRAAVLPANLIQAQRDYFGAHTYKRIDKEGVFHTEWLD\r\n",
      ">P00363 E.coli 46.76964303\r\n"
     ]
    }
   ],
   "source": [
    "!head ../data/cleaned_enzyme_tms_v1.fasta"
   ]
  },
  {
   "cell_type": "markdown",
   "metadata": {},
   "source": [
    "### Split dataset into train, test"
   ]
  },
  {
   "cell_type": "code",
   "execution_count": 16,
   "metadata": {},
   "outputs": [],
   "source": [
    "def split_datasets(input_fasta,split=0.9):\n",
    "    # input_fasta is a fasta file with topts and ogts of all enzymes\n",
    "    # \n",
    "    \n",
    "    # 1. remove those enzymes longer than 2000 residues\n",
    "    recs = [rec for rec in SeqIO.parse(input_fasta,'fasta') if len(rec.seq)<=2000]\n",
    "    print('Number of sequnces:', len(recs))\n",
    "    print('ori',[recs[i].id for i in range(5)])\n",
    "    recs = np.array(recs)\n",
    "    \n",
    "    # 2. random split it into train and test\n",
    "    np.random.seed(212)\n",
    "    shuffled_index = np.arange(len(recs))\n",
    "    np.random.shuffle(shuffled_index)\n",
    "    np.random.seed()\n",
    "    print(shuffled_index)\n",
    "    recs = recs[shuffled_index]\n",
    "    print('shuffuled',[recs[i].id for i in range(5)])\n",
    "    split_point = int(split*len(recs))\n",
    "    training_seqs = recs[:split_point]\n",
    "    test_seqs     = recs[split_point:]\n",
    "    \n",
    "    print('Number of training seqs',len(training_seqs))\n",
    "    print('Number of test seqs',len(test_seqs))\n",
    "    \n",
    "    # save fasta files\n",
    "    trainfile = input_fasta.replace('.fasta','')+'_train.fasta'\n",
    "    testfile = input_fasta.replace('.fasta','')+'_test.fasta'\n",
    "    \n",
    "    ftrain = open(trainfile,'w')\n",
    "    ftest = open(testfile,'w')\n",
    "    \n",
    "    SeqIO.write(training_seqs,ftrain,'fasta')\n",
    "    SeqIO.write(test_seqs,ftest,'fasta')\n",
    "    \n",
    "    ftrain.close()\n",
    "    ftest.close()"
   ]
  },
  {
   "cell_type": "markdown",
   "metadata": {},
   "source": [
    "split_datasets('../data/cleaned_enzyme_tms_v1.fasta',split=0.9)"
   ]
  },
  {
   "cell_type": "code",
   "execution_count": 18,
   "metadata": {},
   "outputs": [
    {
     "name": "stdout",
     "output_type": "stream",
     "text": [
      ">P22515 S.cerevisiae 45.43043484\r\n",
      "MSSNNSGLSAAGEIDESLYSRQLYVLGKEAMLKMQTSNVLILGLKGLGVEIAKNVVLAGV\r\n",
      "KSMTVFDPEPVQLADLSTQFFLTEKDIGQKRGDVTRAKLAELNAYVPVNVLDSLDDVTQL\r\n",
      "SQFQVVVATDTVSLEDKVKINEFCHSSGIRFISSETRGLFGNTFVDLGDEFTVLDPTGEE\r\n",
      "PRTGMVSDIEPDGTVTMLDDNRHGLEDGNFVRFSEVEGLDKLNDGTLFKVEVLGPFAFRI\r\n",
      "GSVKEYGEYKKGGIFTEVKVPRKISFKSLKQQLSNPEFVFSDFAKFDRAAQLHLGFQALH\r\n",
      "QFAVRHNGELPRTMNDEDANELIKLVTDLSVQQPEVLGEGVDVNEDLIKELSYQARGDIP\r\n",
      "GVVAFFGGLVAQEVLKACSGKFTPLKQFMYFDSLESLPDPKNFPRNEKTTQPVNSRYDNQ\r\n",
      "IAVFGLDFQKKIANSKVFLVGSGAIGCEMLKNWALLGLGSGSDGYIVVTDNDSIEKSNLN\r\n",
      "RQFLFRPKDVGKNKSEVAAEAVCAMNPDLKGKINAKIDKVGPETEEIFNDSFWESLDFVT\r\n"
     ]
    }
   ],
   "source": [
    "!head ../data/cleaned_enzyme_tms_v1_test.fasta"
   ]
  },
  {
   "cell_type": "code",
   "execution_count": 11,
   "metadata": {},
   "outputs": [],
   "source": [
    "from matplotlib import pyplot as plt"
   ]
  },
  {
   "cell_type": "code",
   "execution_count": 19,
   "metadata": {},
   "outputs": [],
   "source": [
    "def plot_tm(fasta):\n",
    "    tms = [float(line.split()[-1]) for line in open(fasta) if line.startswith('>')]\n",
    "    plt.figure(figsize=(3,2.5))\n",
    "    plt.hist(tms,50)\n",
    "    plt.xlabel('$T_m$ ($^\\circ$C)')\n",
    "    plt.ylabel('Count')\n",
    "    plt.tight_layout()\n",
    "    plt.show()"
   ]
  },
  {
   "cell_type": "code",
   "execution_count": 20,
   "metadata": {},
   "outputs": [
    {
     "data": {
      "image/png": "[encoded data removed]",
      "text/plain": [
       "<Figure size 216x180 with 1 Axes>"
      ]
     },
     "metadata": {
      "needs_background": "light"
     },
     "output_type": "display_data"
    }
   ],
   "source": [
    "plot_tm('../data/cleaned_enzyme_tms_v1.fasta')"
   ]
  },
  {
   "cell_type": "code",
   "execution_count": 21,
   "metadata": {},
   "outputs": [
    {
     "data": {
      "image/png": "[encoded data removed]",
      "text/plain": [
       "<Figure size 216x180 with 1 Axes>"
      ]
     },
     "metadata": {
      "needs_background": "light"
     },
     "output_type": "display_data"
    }
   ],
   "source": [
    "plot_tm('../data/cleaned_enzyme_tms_v1_test.fasta')"
   ]
  },
  {
   "cell_type": "code",
   "execution_count": 22,
   "metadata": {},
   "outputs": [
    {
     "data": {
      "image/png": "[encoded data removed]",
      "text/plain": [
       "<Figure size 216x180 with 1 Axes>"
      ]
     },
     "metadata": {
      "needs_background": "light"
     },
     "output_type": "display_data"
    }
   ],
   "source": [
    "plot_tm('../data/cleaned_enzyme_tms_v1_train.fasta')"
   ]
  },
  {
   "cell_type": "markdown",
   "metadata": {},
   "source": [
    "### iFeatures"
   ]
  },
  {
   "cell_type": "code",
   "execution_count": 32,
   "metadata": {},
   "outputs": [],
   "source": [
    "def merge_iFeatures():\n",
    "    indir = 'Extracted_iFeatures_Tm/'\n",
    "    dfall = None\n",
    "    for name in os.listdir(indir):\n",
    "        df = pd.read_csv(os.path.join(indir,name),sep='\\t',index_col=0)\n",
    "        if dfall is None: dfall = df.copy()\n",
    "        else: dfall = pd.merge(dfall,df,left_index=True,right_index=True,how='inner')\n",
    "    print(dfall.shape)\n",
    "    \n",
    "    tms = {rec.id:float(rec.description.split()[-1]) for rec in SeqIO.parse('../data/cleaned_enzyme_tms_v1.fasta','fasta')}\n",
    "    dfall['tm'] = [tms[ind] for ind in dfall.index]\n",
    "    print(dfall.shape)\n",
    "    dfall.to_csv('../data/tm_iFeatures.csv')\n",
    "    print(dfall.head(5))"
   ]
  },
  {
   "cell_type": "code",
   "execution_count": 33,
   "metadata": {},
   "outputs": [
    {
     "name": "stdout",
     "output_type": "stream",
     "text": [
      "(2506, 5494)\n",
      "(2506, 5495)\n",
      "               A         C         D         E         F         G         H  \\\n",
      "#                                                                              \n",
      "P00350  0.108974  0.004274  0.057692  0.072650  0.036325  0.087607  0.008547   \n",
      "P00363  0.101329  0.016611  0.058140  0.073090  0.033223  0.109635  0.034884   \n",
      "P00370  0.105145  0.008949  0.042506  0.069351  0.049217  0.109620  0.022371   \n",
      "P00448  0.126214  0.000000  0.058252  0.063107  0.053398  0.063107  0.038835   \n",
      "P00452  0.081472  0.014455  0.067017  0.060447  0.036794  0.063075  0.026281   \n",
      "\n",
      "               I         K         L    ...      Xc2.lambda22  Xc2.lambda23  \\\n",
      "#                                       ...                                   \n",
      "P00350  0.074786  0.059829  0.085470    ...          0.023289      0.023783   \n",
      "P00363  0.038206  0.044850  0.079734    ...          0.025674      0.024527   \n",
      "P00370  0.038031  0.049217  0.078300    ...          0.025230      0.024877   \n",
      "P00448  0.029126  0.082524  0.097087    ...          0.025912      0.023661   \n",
      "P00452  0.065703  0.055191  0.098555    ...          0.024557      0.024997   \n",
      "\n",
      "        Xc2.lambda24  Xc2.lambda25  Xc2.lambda26  Xc2.lambda27  Xc2.lambda28  \\\n",
      "#                                                                              \n",
      "P00350      0.026696      0.024816      0.022743      0.025067      0.025495   \n",
      "P00363      0.025145      0.025338      0.024585      0.025061      0.025121   \n",
      "P00370      0.024350      0.023442      0.026057      0.025170      0.024535   \n",
      "P00448      0.023993      0.023874      0.026107      0.025404      0.024391   \n",
      "P00452      0.024323      0.024548      0.024252      0.024748      0.024009   \n",
      "\n",
      "        Xc2.lambda29  Xc2.lambda30         tm  \n",
      "#                                              \n",
      "P00350      0.025059      0.025307  57.826135  \n",
      "P00363      0.025877      0.024944  46.769643  \n",
      "P00370      0.022179      0.027038  58.776594  \n",
      "P00448      0.027753      0.024326  66.594695  \n",
      "P00452      0.024936      0.024961  44.794744  \n",
      "\n",
      "[5 rows x 5495 columns]\n"
     ]
    }
   ],
   "source": [
    "merge_iFeatures()"
   ]
  },
  {
   "cell_type": "markdown",
   "metadata": {},
   "source": [
    "### UniRep"
   ]
  },
  {
   "cell_type": "code",
   "execution_count": 6,
   "metadata": {},
   "outputs": [],
   "source": [
    "def unirep_feature():\n",
    "    dfall = pd.read_csv('../data/cleaned_enzyme_tms_v1.fasta_unirep.csv',index_col=0)\n",
    "    tms = {rec.id:float(rec.description.split()[-1]) for rec in SeqIO.parse('../data/cleaned_enzyme_tms_v1.fasta','fasta')}\n",
    "    dfall['tm'] = [tms[ind] for ind in dfall.index]\n",
    "    print(dfall.shape)\n",
    "    dfall.to_csv('../data/tm_unirep.csv')\n",
    "    print(dfall.head(5))"
   ]
  },
  {
   "cell_type": "code",
   "execution_count": 7,
   "metadata": {},
   "outputs": [
    {
     "name": "stdout",
     "output_type": "stream",
     "text": [
      "(2506, 5701)\n",
      "            av_1      av_2      av_3      av_4      av_5      av_6      av_7  \\\n",
      "P00350  0.023348  0.103948  0.115232 -0.046291 -0.031405  0.035689  0.091538   \n",
      "P00363  0.018047  0.110836  0.056840 -0.020883 -0.242539  0.116526  0.040931   \n",
      "P00370  0.005392  0.121998  0.118537 -0.034731 -0.146919  0.104927 -0.011717   \n",
      "P00448  0.003352 -0.011320  0.053151 -0.013149 -0.050491  0.056789 -0.077834   \n",
      "P00452  0.002944  0.020775  0.071420 -0.027629  0.314275  0.039193  0.100978   \n",
      "\n",
      "            av_8      av_9     av_10    ...       fc_1892   fc_1893  \\\n",
      "P00350 -0.037810 -0.004953  0.096587    ...      1.365720 -2.618035   \n",
      "P00363  0.008316 -0.003512  0.028626    ...      0.555636 -8.387062   \n",
      "P00370 -0.022139 -0.005157  0.016173    ...      0.245512 -0.754901   \n",
      "P00448 -0.017443 -0.007220  0.025634    ...      1.135081  0.348549   \n",
      "P00452 -0.012032 -0.002950 -0.031175    ...      0.063986 -4.467035   \n",
      "\n",
      "          fc_1894   fc_1895   fc_1896   fc_1897   fc_1898   fc_1899   fc_1900  \\\n",
      "P00350   3.297740 -0.935935  0.961510  0.057918  0.491123 -3.827987  0.586331   \n",
      "P00363  12.719463 -6.166157 -3.813683  0.804677  3.090622  0.183600  5.426650   \n",
      "P00370   5.830016 -2.201176  0.455941 -0.722590  2.059790 -6.131212 -1.545738   \n",
      "P00448   2.134336 -9.014310  0.375211  0.996967  0.933865 -2.001003 -1.485898   \n",
      "P00452  15.195505 -6.696999  0.940607  0.334084  2.553113 -0.960823  0.587824   \n",
      "\n",
      "               tm  \n",
      "P00350  57.826135  \n",
      "P00363  46.769643  \n",
      "P00370  58.776594  \n",
      "P00448  66.594695  \n",
      "P00452  44.794744  \n",
      "\n",
      "[5 rows x 5701 columns]\n"
     ]
    }
   ],
   "source": [
    "unirep_feature()"
   ]
  },
  {
   "cell_type": "code",
   "execution_count": null,
   "metadata": {},
   "outputs": [],
   "source": []
  },
  {
   "cell_type": "code",
   "execution_count": null,
   "metadata": {},
   "outputs": [],
   "source": []
  }
 ],
 "metadata": {
  "kernelspec": {
   "display_name": "Python 3",
   "language": "python",
   "name": "python3"
  },
  "language_info": {
   "codemirror_mode": {
    "name": "ipython",
    "version": 3
   },
   "file_extension": ".py",
   "mimetype": "text/x-python",
   "name": "python",
   "nbconvert_exporter": "python",
   "pygments_lexer": "ipython3",
   "version": "3.6.7"
  }
 },
 "nbformat": 4,
 "nbformat_minor": 2
}
